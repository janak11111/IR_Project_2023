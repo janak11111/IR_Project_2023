{
  "nbformat": 4,
  "nbformat_minor": 0,
  "metadata": {
    "colab": {
      "provenance": []
    },
    "kernelspec": {
      "name": "python3",
      "display_name": "Python 3"
    },
    "language_info": {
      "name": "python"
    },
    "gpuClass": "standard"
  },
  "cells": [
    {
      "cell_type": "code",
      "execution_count": null,
      "metadata": {
        "id": "OrDb2R7QUiPp"
      },
      "outputs": [],
      "source": [
        "# import libraries\n",
        "import pandas as pd\n",
        "import numpy as np\n",
        "import matplotlib.pyplot as plt\n",
        "import seaborn as sns\n",
        "from sklearn.linear_model import LogisticRegression\n",
        "from sklearn.model_selection import train_test_split\n",
        "import warnings\n",
        "import string\n",
        "import nltk, re\n",
        "import pickle\n",
        "warnings.filterwarnings('ignore')"
      ]
    },
    {
      "cell_type": "code",
      "source": [
        "# dowload all stopwords\n",
        "nltk.download('stopwords')\n",
        "nltk.download('wordnet')\n",
        "nltk.download('omw-1.4')\n",
        "nltk.download('words')\n",
        "from nltk.corpus import stopwords\n",
        "\n",
        "# set of all valid words\n",
        "dictionary_words = set(nltk.corpus.words.words())\n",
        "\n",
        "# made set of stopwords\n",
        "StopWords = set(stopwords.words('english'))\n",
        "print(StopWords)"
      ],
      "metadata": {
        "colab": {
          "base_uri": "https://localhost:8080/"
        },
        "id": "nIriboEjZY7B",
        "outputId": "d4f6951e-5fb6-4d01-b355-0907dfce3e3e"
      },
      "execution_count": null,
      "outputs": [
        {
          "output_type": "stream",
          "name": "stdout",
          "text": [
            "{'out', 'too', 'herself', 'by', 'doing', 'off', 'which', 'm', \"you'll\", 'so', \"isn't\", 'hadn', 'at', 'yourselves', 'below', 'in', 'once', 'other', 'both', 'these', 'himself', 'where', 'most', 's', 'your', 'haven', \"needn't\", \"shouldn't\", 'him', 'needn', 'some', 'being', 'it', 'same', 'any', \"doesn't\", \"weren't\", 'not', 'no', 'd', 'ain', \"don't\", 'only', 'those', \"you'd\", 'her', 'here', \"won't\", 'have', 'y', 're', 'didn', 'over', 'you', 'be', 'how', 'aren', 'while', 'she', 'hasn', 'why', 'all', \"aren't\", \"hadn't\", \"wasn't\", 'had', 'of', 'my', 'but', 'if', 'doesn', \"it's\", \"wouldn't\", 'until', 'i', 'myself', 'were', 'with', 'hers', \"should've\", 'above', 'that', 'wasn', \"she's\", 'down', 'under', 'just', 'up', 'what', 'because', 'its', 'to', 'do', 'mightn', \"didn't\", 'ourselves', \"you're\", 'has', 'against', 'will', 'he', 'few', \"shan't\", \"that'll\", 'won', 'own', 'o', 'after', 'shan', 'me', 'than', 'into', 'yours', 'are', 'from', 'the', 'am', 'whom', 'shouldn', 'there', 'on', 'further', 'now', 'about', 'themselves', 'such', 'been', 'between', 'each', \"haven't\", 'can', 'this', 'for', \"hasn't\", 'll', 've', 'having', 'as', 'ours', 'their', 'his', 'did', 'should', 't', 'and', 'wouldn', 'weren', 'was', 'through', \"mightn't\", \"couldn't\", 'our', 'isn', \"mustn't\", 'they', 'we', 'more', 'ma', 'mustn', 'again', 'nor', 'then', 'is', 'before', 'an', 'them', 'itself', 'very', \"you've\", 'yourself', 'couldn', 'theirs', 'does', 'a', 'during', 'who', 'don', 'or', 'when'}\n"
          ]
        },
        {
          "output_type": "stream",
          "name": "stderr",
          "text": [
            "[nltk_data] Downloading package stopwords to /root/nltk_data...\n",
            "[nltk_data]   Package stopwords is already up-to-date!\n",
            "[nltk_data] Downloading package wordnet to /root/nltk_data...\n",
            "[nltk_data]   Package wordnet is already up-to-date!\n",
            "[nltk_data] Downloading package omw-1.4 to /root/nltk_data...\n",
            "[nltk_data]   Package omw-1.4 is already up-to-date!\n",
            "[nltk_data] Downloading package words to /root/nltk_data...\n",
            "[nltk_data]   Package words is already up-to-date!\n"
          ]
        }
      ]
    },
    {
      "cell_type": "markdown",
      "source": [
        "## Load the datasets"
      ],
      "metadata": {
        "id": "6VCPgahaZ5vA"
      }
    },
    {
      "cell_type": "code",
      "source": [
        "# load the dataset\n",
        "df = pd.read_csv(\"emotion_tweet.csv\", encoding=\"UTF8\")\n",
        "\n",
        "# check the shape of dataframe\n",
        "print(df.shape)"
      ],
      "metadata": {
        "colab": {
          "base_uri": "https://localhost:8080/"
        },
        "id": "4sv4QW3SVkQB",
        "outputId": "bf5aa411-10cc-4467-ede1-969e45b2ba2c"
      },
      "execution_count": null,
      "outputs": [
        {
          "output_type": "stream",
          "name": "stdout",
          "text": [
            "(10017, 4)\n"
          ]
        }
      ]
    },
    {
      "cell_type": "code",
      "source": [
        "# check dataframe first 5 rows\n",
        "df.head()"
      ],
      "metadata": {
        "colab": {
          "base_uri": "https://localhost:8080/",
          "height": 206
        },
        "id": "DRHZTQ72VkVr",
        "outputId": "a353077f-3a3e-4947-fd0c-8ddcb1cb048f"
      },
      "execution_count": null,
      "outputs": [
        {
          "output_type": "execute_result",
          "data": {
            "text/plain": [
              "   Sl no                                             Tweets     Search key  \\\n",
              "0      1   #1: @fe ed \"RT @MirayaDizon1: Time is ticking...  happy moments   \n",
              "1      2   #2: @蓮花 &はすか ed \"RT @ninjaryugo: ＃コナモンの日 だそうで...  happy moments   \n",
              "2      3   #3: @Ris ♡ ed \"Happy birthday to one smokin h...  happy moments   \n",
              "3      4   #4: @월월 [씍쯴사랑로봇] jwinnie is the best, cheer u...  happy moments   \n",
              "4      5   #5: @Madhurima wth u vc♥ ed \"Good morning dea...  happy moments   \n",
              "\n",
              "  Feeling  \n",
              "0   happy  \n",
              "1   happy  \n",
              "2   happy  \n",
              "3   happy  \n",
              "4   happy  "
            ],
            "text/html": [
              "\n",
              "  <div id=\"df-b95db777-63f5-4146-9ea6-0708ea9e0de5\">\n",
              "    <div class=\"colab-df-container\">\n",
              "      <div>\n",
              "<style scoped>\n",
              "    .dataframe tbody tr th:only-of-type {\n",
              "        vertical-align: middle;\n",
              "    }\n",
              "\n",
              "    .dataframe tbody tr th {\n",
              "        vertical-align: top;\n",
              "    }\n",
              "\n",
              "    .dataframe thead th {\n",
              "        text-align: right;\n",
              "    }\n",
              "</style>\n",
              "<table border=\"1\" class=\"dataframe\">\n",
              "  <thead>\n",
              "    <tr style=\"text-align: right;\">\n",
              "      <th></th>\n",
              "      <th>Sl no</th>\n",
              "      <th>Tweets</th>\n",
              "      <th>Search key</th>\n",
              "      <th>Feeling</th>\n",
              "    </tr>\n",
              "  </thead>\n",
              "  <tbody>\n",
              "    <tr>\n",
              "      <th>0</th>\n",
              "      <td>1</td>\n",
              "      <td>#1: @fe ed \"RT @MirayaDizon1: Time is ticking...</td>\n",
              "      <td>happy moments</td>\n",
              "      <td>happy</td>\n",
              "    </tr>\n",
              "    <tr>\n",
              "      <th>1</th>\n",
              "      <td>2</td>\n",
              "      <td>#2: @蓮花 &amp;はすか ed \"RT @ninjaryugo: ＃コナモンの日 だそうで...</td>\n",
              "      <td>happy moments</td>\n",
              "      <td>happy</td>\n",
              "    </tr>\n",
              "    <tr>\n",
              "      <th>2</th>\n",
              "      <td>3</td>\n",
              "      <td>#3: @Ris ♡ ed \"Happy birthday to one smokin h...</td>\n",
              "      <td>happy moments</td>\n",
              "      <td>happy</td>\n",
              "    </tr>\n",
              "    <tr>\n",
              "      <th>3</th>\n",
              "      <td>4</td>\n",
              "      <td>#4: @월월 [씍쯴사랑로봇] jwinnie is the best, cheer u...</td>\n",
              "      <td>happy moments</td>\n",
              "      <td>happy</td>\n",
              "    </tr>\n",
              "    <tr>\n",
              "      <th>4</th>\n",
              "      <td>5</td>\n",
              "      <td>#5: @Madhurima wth u vc♥ ed \"Good morning dea...</td>\n",
              "      <td>happy moments</td>\n",
              "      <td>happy</td>\n",
              "    </tr>\n",
              "  </tbody>\n",
              "</table>\n",
              "</div>\n",
              "      <button class=\"colab-df-convert\" onclick=\"convertToInteractive('df-b95db777-63f5-4146-9ea6-0708ea9e0de5')\"\n",
              "              title=\"Convert this dataframe to an interactive table.\"\n",
              "              style=\"display:none;\">\n",
              "        \n",
              "  <svg xmlns=\"http://www.w3.org/2000/svg\" height=\"24px\"viewBox=\"0 0 24 24\"\n",
              "       width=\"24px\">\n",
              "    <path d=\"M0 0h24v24H0V0z\" fill=\"none\"/>\n",
              "    <path d=\"M18.56 5.44l.94 2.06.94-2.06 2.06-.94-2.06-.94-.94-2.06-.94 2.06-2.06.94zm-11 1L8.5 8.5l.94-2.06 2.06-.94-2.06-.94L8.5 2.5l-.94 2.06-2.06.94zm10 10l.94 2.06.94-2.06 2.06-.94-2.06-.94-.94-2.06-.94 2.06-2.06.94z\"/><path d=\"M17.41 7.96l-1.37-1.37c-.4-.4-.92-.59-1.43-.59-.52 0-1.04.2-1.43.59L10.3 9.45l-7.72 7.72c-.78.78-.78 2.05 0 2.83L4 21.41c.39.39.9.59 1.41.59.51 0 1.02-.2 1.41-.59l7.78-7.78 2.81-2.81c.8-.78.8-2.07 0-2.86zM5.41 20L4 18.59l7.72-7.72 1.47 1.35L5.41 20z\"/>\n",
              "  </svg>\n",
              "      </button>\n",
              "      \n",
              "  <style>\n",
              "    .colab-df-container {\n",
              "      display:flex;\n",
              "      flex-wrap:wrap;\n",
              "      gap: 12px;\n",
              "    }\n",
              "\n",
              "    .colab-df-convert {\n",
              "      background-color: #E8F0FE;\n",
              "      border: none;\n",
              "      border-radius: 50%;\n",
              "      cursor: pointer;\n",
              "      display: none;\n",
              "      fill: #1967D2;\n",
              "      height: 32px;\n",
              "      padding: 0 0 0 0;\n",
              "      width: 32px;\n",
              "    }\n",
              "\n",
              "    .colab-df-convert:hover {\n",
              "      background-color: #E2EBFA;\n",
              "      box-shadow: 0px 1px 2px rgba(60, 64, 67, 0.3), 0px 1px 3px 1px rgba(60, 64, 67, 0.15);\n",
              "      fill: #174EA6;\n",
              "    }\n",
              "\n",
              "    [theme=dark] .colab-df-convert {\n",
              "      background-color: #3B4455;\n",
              "      fill: #D2E3FC;\n",
              "    }\n",
              "\n",
              "    [theme=dark] .colab-df-convert:hover {\n",
              "      background-color: #434B5C;\n",
              "      box-shadow: 0px 1px 3px 1px rgba(0, 0, 0, 0.15);\n",
              "      filter: drop-shadow(0px 1px 2px rgba(0, 0, 0, 0.3));\n",
              "      fill: #FFFFFF;\n",
              "    }\n",
              "  </style>\n",
              "\n",
              "      <script>\n",
              "        const buttonEl =\n",
              "          document.querySelector('#df-b95db777-63f5-4146-9ea6-0708ea9e0de5 button.colab-df-convert');\n",
              "        buttonEl.style.display =\n",
              "          google.colab.kernel.accessAllowed ? 'block' : 'none';\n",
              "\n",
              "        async function convertToInteractive(key) {\n",
              "          const element = document.querySelector('#df-b95db777-63f5-4146-9ea6-0708ea9e0de5');\n",
              "          const dataTable =\n",
              "            await google.colab.kernel.invokeFunction('convertToInteractive',\n",
              "                                                     [key], {});\n",
              "          if (!dataTable) return;\n",
              "\n",
              "          const docLinkHtml = 'Like what you see? Visit the ' +\n",
              "            '<a target=\"_blank\" href=https://colab.research.google.com/notebooks/data_table.ipynb>data table notebook</a>'\n",
              "            + ' to learn more about interactive tables.';\n",
              "          element.innerHTML = '';\n",
              "          dataTable['output_type'] = 'display_data';\n",
              "          await google.colab.output.renderOutput(dataTable, element);\n",
              "          const docLink = document.createElement('div');\n",
              "          docLink.innerHTML = docLinkHtml;\n",
              "          element.appendChild(docLink);\n",
              "        }\n",
              "      </script>\n",
              "    </div>\n",
              "  </div>\n",
              "  "
            ]
          },
          "metadata": {},
          "execution_count": 251
        }
      ]
    },
    {
      "cell_type": "code",
      "source": [
        "# Drop unnecessary columns\n",
        "df = df.drop(['Search key', 'Sl no'], axis=1)\n",
        "df.columns = ['tweet', 'emotion']\n",
        "df.head()"
      ],
      "metadata": {
        "colab": {
          "base_uri": "https://localhost:8080/",
          "height": 206
        },
        "id": "lJzahPf4VAJt",
        "outputId": "b06afeac-ff6e-426b-8d9a-f59940eb5bec"
      },
      "execution_count": null,
      "outputs": [
        {
          "output_type": "execute_result",
          "data": {
            "text/plain": [
              "                                               tweet emotion\n",
              "0   #1: @fe ed \"RT @MirayaDizon1: Time is ticking...   happy\n",
              "1   #2: @蓮花 &はすか ed \"RT @ninjaryugo: ＃コナモンの日 だそうで...   happy\n",
              "2   #3: @Ris ♡ ed \"Happy birthday to one smokin h...   happy\n",
              "3   #4: @월월 [씍쯴사랑로봇] jwinnie is the best, cheer u...   happy\n",
              "4   #5: @Madhurima wth u vc♥ ed \"Good morning dea...   happy"
            ],
            "text/html": [
              "\n",
              "  <div id=\"df-d0c7bc09-6890-4a61-84cb-952b5e7d81c5\">\n",
              "    <div class=\"colab-df-container\">\n",
              "      <div>\n",
              "<style scoped>\n",
              "    .dataframe tbody tr th:only-of-type {\n",
              "        vertical-align: middle;\n",
              "    }\n",
              "\n",
              "    .dataframe tbody tr th {\n",
              "        vertical-align: top;\n",
              "    }\n",
              "\n",
              "    .dataframe thead th {\n",
              "        text-align: right;\n",
              "    }\n",
              "</style>\n",
              "<table border=\"1\" class=\"dataframe\">\n",
              "  <thead>\n",
              "    <tr style=\"text-align: right;\">\n",
              "      <th></th>\n",
              "      <th>tweet</th>\n",
              "      <th>emotion</th>\n",
              "    </tr>\n",
              "  </thead>\n",
              "  <tbody>\n",
              "    <tr>\n",
              "      <th>0</th>\n",
              "      <td>#1: @fe ed \"RT @MirayaDizon1: Time is ticking...</td>\n",
              "      <td>happy</td>\n",
              "    </tr>\n",
              "    <tr>\n",
              "      <th>1</th>\n",
              "      <td>#2: @蓮花 &amp;はすか ed \"RT @ninjaryugo: ＃コナモンの日 だそうで...</td>\n",
              "      <td>happy</td>\n",
              "    </tr>\n",
              "    <tr>\n",
              "      <th>2</th>\n",
              "      <td>#3: @Ris ♡ ed \"Happy birthday to one smokin h...</td>\n",
              "      <td>happy</td>\n",
              "    </tr>\n",
              "    <tr>\n",
              "      <th>3</th>\n",
              "      <td>#4: @월월 [씍쯴사랑로봇] jwinnie is the best, cheer u...</td>\n",
              "      <td>happy</td>\n",
              "    </tr>\n",
              "    <tr>\n",
              "      <th>4</th>\n",
              "      <td>#5: @Madhurima wth u vc♥ ed \"Good morning dea...</td>\n",
              "      <td>happy</td>\n",
              "    </tr>\n",
              "  </tbody>\n",
              "</table>\n",
              "</div>\n",
              "      <button class=\"colab-df-convert\" onclick=\"convertToInteractive('df-d0c7bc09-6890-4a61-84cb-952b5e7d81c5')\"\n",
              "              title=\"Convert this dataframe to an interactive table.\"\n",
              "              style=\"display:none;\">\n",
              "        \n",
              "  <svg xmlns=\"http://www.w3.org/2000/svg\" height=\"24px\"viewBox=\"0 0 24 24\"\n",
              "       width=\"24px\">\n",
              "    <path d=\"M0 0h24v24H0V0z\" fill=\"none\"/>\n",
              "    <path d=\"M18.56 5.44l.94 2.06.94-2.06 2.06-.94-2.06-.94-.94-2.06-.94 2.06-2.06.94zm-11 1L8.5 8.5l.94-2.06 2.06-.94-2.06-.94L8.5 2.5l-.94 2.06-2.06.94zm10 10l.94 2.06.94-2.06 2.06-.94-2.06-.94-.94-2.06-.94 2.06-2.06.94z\"/><path d=\"M17.41 7.96l-1.37-1.37c-.4-.4-.92-.59-1.43-.59-.52 0-1.04.2-1.43.59L10.3 9.45l-7.72 7.72c-.78.78-.78 2.05 0 2.83L4 21.41c.39.39.9.59 1.41.59.51 0 1.02-.2 1.41-.59l7.78-7.78 2.81-2.81c.8-.78.8-2.07 0-2.86zM5.41 20L4 18.59l7.72-7.72 1.47 1.35L5.41 20z\"/>\n",
              "  </svg>\n",
              "      </button>\n",
              "      \n",
              "  <style>\n",
              "    .colab-df-container {\n",
              "      display:flex;\n",
              "      flex-wrap:wrap;\n",
              "      gap: 12px;\n",
              "    }\n",
              "\n",
              "    .colab-df-convert {\n",
              "      background-color: #E8F0FE;\n",
              "      border: none;\n",
              "      border-radius: 50%;\n",
              "      cursor: pointer;\n",
              "      display: none;\n",
              "      fill: #1967D2;\n",
              "      height: 32px;\n",
              "      padding: 0 0 0 0;\n",
              "      width: 32px;\n",
              "    }\n",
              "\n",
              "    .colab-df-convert:hover {\n",
              "      background-color: #E2EBFA;\n",
              "      box-shadow: 0px 1px 2px rgba(60, 64, 67, 0.3), 0px 1px 3px 1px rgba(60, 64, 67, 0.15);\n",
              "      fill: #174EA6;\n",
              "    }\n",
              "\n",
              "    [theme=dark] .colab-df-convert {\n",
              "      background-color: #3B4455;\n",
              "      fill: #D2E3FC;\n",
              "    }\n",
              "\n",
              "    [theme=dark] .colab-df-convert:hover {\n",
              "      background-color: #434B5C;\n",
              "      box-shadow: 0px 1px 3px 1px rgba(0, 0, 0, 0.15);\n",
              "      filter: drop-shadow(0px 1px 2px rgba(0, 0, 0, 0.3));\n",
              "      fill: #FFFFFF;\n",
              "    }\n",
              "  </style>\n",
              "\n",
              "      <script>\n",
              "        const buttonEl =\n",
              "          document.querySelector('#df-d0c7bc09-6890-4a61-84cb-952b5e7d81c5 button.colab-df-convert');\n",
              "        buttonEl.style.display =\n",
              "          google.colab.kernel.accessAllowed ? 'block' : 'none';\n",
              "\n",
              "        async function convertToInteractive(key) {\n",
              "          const element = document.querySelector('#df-d0c7bc09-6890-4a61-84cb-952b5e7d81c5');\n",
              "          const dataTable =\n",
              "            await google.colab.kernel.invokeFunction('convertToInteractive',\n",
              "                                                     [key], {});\n",
              "          if (!dataTable) return;\n",
              "\n",
              "          const docLinkHtml = 'Like what you see? Visit the ' +\n",
              "            '<a target=\"_blank\" href=https://colab.research.google.com/notebooks/data_table.ipynb>data table notebook</a>'\n",
              "            + ' to learn more about interactive tables.';\n",
              "          element.innerHTML = '';\n",
              "          dataTable['output_type'] = 'display_data';\n",
              "          await google.colab.output.renderOutput(dataTable, element);\n",
              "          const docLink = document.createElement('div');\n",
              "          docLink.innerHTML = docLinkHtml;\n",
              "          element.appendChild(docLink);\n",
              "        }\n",
              "      </script>\n",
              "    </div>\n",
              "  </div>\n",
              "  "
            ]
          },
          "metadata": {},
          "execution_count": 252
        }
      ]
    },
    {
      "cell_type": "code",
      "source": [
        "# check unique emotions\n",
        "print(df.emotion.unique())"
      ],
      "metadata": {
        "colab": {
          "base_uri": "https://localhost:8080/"
        },
        "id": "9rvqMrbXXP6L",
        "outputId": "c584e05d-9d7c-4c2c-9e08-81bef7169d3d"
      },
      "execution_count": null,
      "outputs": [
        {
          "output_type": "stream",
          "name": "stdout",
          "text": [
            "['happy' 'sad' 'angry' 'fear' 'disgust' 'surprise']\n"
          ]
        }
      ]
    },
    {
      "cell_type": "code",
      "source": [
        "# check distribution of the dataset\n",
        "sns.countplot(df.emotion)\n",
        "plt.show()\n",
        "\n",
        "\n",
        "## dataset is imbalanced."
      ],
      "metadata": {
        "colab": {
          "base_uri": "https://localhost:8080/",
          "height": 279
        },
        "id": "LJOeTH4AY_oz",
        "outputId": "ed323e83-fd06-4bd5-b055-c7c07a009847"
      },
      "execution_count": null,
      "outputs": [
        {
          "output_type": "display_data",
          "data": {
            "text/plain": [
              "<Figure size 432x288 with 1 Axes>"
            ],
            "image/png": "[encoded data removed]"
          },
          "metadata": {
            "needs_background": "light"
          }
        }
      ]
    },
    {
      "cell_type": "markdown",
      "source": [
        "## Data Preprocessing"
      ],
      "metadata": {
        "id": "TOesyyoZZ-TJ"
      }
    },
    {
      "cell_type": "code",
      "source": [
        "!pip install emoji\n",
        "import emoji"
      ],
      "metadata": {
        "colab": {
          "base_uri": "https://localhost:8080/"
        },
        "id": "GhA_x_WSkt5E",
        "outputId": "4cd62b50-08f9-4f5b-869f-501e8a823a37"
      },
      "execution_count": null,
      "outputs": [
        {
          "output_type": "stream",
          "name": "stdout",
          "text": [
            "Looking in indexes: https://pypi.org/simple, https://us-python.pkg.dev/colab-wheels/public/simple/\n",
            "Requirement already satisfied: emoji in /usr/local/lib/python3.8/dist-packages (2.2.0)\n"
          ]
        }
      ]
    },
    {
      "cell_type": "code",
      "source": [
        "from nltk.stem.porter import PorterStemmer\n",
        "from nltk.stem import WordNetLemmatizer\n",
        "import emoji\n",
        "\n",
        "\n",
        "stemmer = PorterStemmer()\n",
        "lemmatizer = WordNetLemmatizer()\n",
        "url = re.compile(r'https?://\\S+|www\\.\\S+')\n",
        "\n",
        "# # load unicodes for imoji\n",
        "# with open(\"UNICODE_EMO.pickle\", 'rb') as f:\n",
        "#   UNICODE_EMO = pickle.load(f)\n",
        "  \n",
        "\n",
        "emoji_pattern = re.compile(\"[\"\n",
        "                            u\"\\U0001F600-\\U0001F64F\"  # emoticons\n",
        "                            u\"\\U0001F300-\\U0001F5FF\"  # symbols & pictographs\n",
        "                            u\"\\U0001F680-\\U0001F6FF\"  # transport & map symbols\n",
        "                            u\"\\U0001F1E0-\\U0001F1FF\"  # flags (iOS)\n",
        "                            u\"\\U00002500-\\U00002BEF\"  # chinese char\n",
        "                            u\"\\U00002702-\\U000027B0\"\n",
        "                            u\"\\U00002702-\\U000027B0\"\n",
        "                            u\"\\U000024C2-\\U0001F251\"\n",
        "                            u\"\\U0001f926-\\U0001f937\"\n",
        "                            u\"\\U00010000-\\U0010ffff\"\n",
        "                            u\"\\u2640-\\u2642\"\n",
        "                            u\"\\u2600-\\u2B55\"\n",
        "                            u\"\\u200d\"\n",
        "                            u\"\\u23cf\"\n",
        "                            u\"\\u23e9\"\n",
        "                            u\"\\u231a\"\n",
        "                            u\"\\ufe0f\"  # dingbats\n",
        "                            u\"\\u3030\"\n",
        "                          \"]+\", flags=re.UNICODE)\n",
        "\n",
        "\n",
        "df['lower_cased'] = 0\n",
        "df['punctuation_removed'] = 0\n",
        "df['stopword_removed'] = 0\n",
        "df['url_removed'] = 0\n",
        "df['emoji_removed'] = 0\n",
        "df['lemmetized'] = 0\n",
        "\n",
        "\n",
        "# function to convert emojis to text\n",
        "# def convert_emojis_to_text(s):\n",
        "#   for emo in UNICODE_EMO:\n",
        "#     new_s = re.sub(r'('+emo+')', \"_\".join(UNICODE_EMO[emo].replace(\",\", \"\").replace(\":\", \"\").split()), s)\n",
        "#   return new_s\n",
        "\n",
        "\n",
        "# function to do data preprocessing \n",
        "def data_preprocessing(df): \n",
        "  \n",
        "  for i in range(df.shape[0]):\n",
        "    # lower casing the data\n",
        "    df['lower_cased'][i] = df['tweet'][i].lower()\n",
        "\n",
        "\n",
        "    # remove url\n",
        "    temp = df['lower_cased'][i]\n",
        "    df['url_removed'][i] = url.sub(\"\", temp)\n",
        "\n",
        "\n",
        "    # remove the punctuation and numbers\n",
        "    temp = df['url_removed'][i].translate(str.maketrans('', '', string.punctuation))\n",
        "    df['punctuation_removed'][i] = \" \".join([x for x in temp.split() if x.isalpha()])\n",
        "\n",
        "\n",
        "    # remove emoji\n",
        "    df['emoji_removed'][i] = emoji_pattern.sub(r'', df['punctuation_removed'][i])\n",
        "\n",
        "\n",
        "    # remove stopwords\n",
        "    temp = df['emoji_removed'][i].split()\n",
        "    df['stopword_removed'][i] = \" \".join([x for x in temp if x not in StopWords and x in dictionary_words and x is not None])\n",
        "\n",
        "\n",
        "    # apply lemmatization\n",
        "    temp = [word for word in df['stopword_removed'][i].split()] \n",
        "    temp = \" \".join([lemmatizer.lemmatize(word) for word in temp])\n",
        "    df['lemmetized'][i] = \" \".join([word for word in temp.split() if len(word)> 2])\n",
        "\n",
        "\n",
        "    if not df['lemmetized'][i] or len(df['lemmetized'][i].split()) < 4:\n",
        "      df['lemmetized'][i] = np.nan\n",
        "\n",
        "\n",
        "  return df[['tweet', 'lemmetized', 'emotion']]"
      ],
      "metadata": {
        "id": "XYY0bfY3Za0S"
      },
      "execution_count": null,
      "outputs": []
    },
    {
      "cell_type": "code",
      "source": [
        "# call preprocessing\n",
        "df_preprocessed = data_preprocessing(df)\n",
        "df_preprocessed = df_preprocessed.rename(columns={'lemmetized': 'clean_tweet'})\n",
        "print(df_preprocessed.shape)\n",
        "df_preprocessed.head(10)"
      ],
      "metadata": {
        "colab": {
          "base_uri": "https://localhost:8080/",
          "height": 380
        },
        "id": "BlJu-MSQgCBR",
        "outputId": "bfa075ab-8a00-4cb4-fd39-b72a8df0dc29"
      },
      "execution_count": null,
      "outputs": [
        {
          "output_type": "stream",
          "name": "stdout",
          "text": [
            "(10017, 3)\n"
          ]
        },
        {
          "output_type": "execute_result",
          "data": {
            "text/plain": [
              "                                               tweet  \\\n",
              "0   #1: @fe ed \"RT @MirayaDizon1: Time is ticking...   \n",
              "1   #2: @蓮花 &はすか ed \"RT @ninjaryugo: ＃コナモンの日 だそうで...   \n",
              "2   #3: @Ris ♡ ed \"Happy birthday to one smokin h...   \n",
              "3   #4: @월월 [씍쯴사랑로봇] jwinnie is the best, cheer u...   \n",
              "4   #5: @Madhurima wth u vc♥ ed \"Good morning dea...   \n",
              "5   #6: @Jeinalís Ramos ed \"Happy moments 🙏🏽 http...   \n",
              "6   #7: @Eric Rogers ed \"@CaitlinUnruh The movie ...   \n",
              "7   #8: @Yanny Sandal ed \"I don’t give two shits ...   \n",
              "8   #9: @daynada ed \"my beautiful barbie bride an...   \n",
              "9   #10: @ß🌪 ed \"Someone Great has been one of th...   \n",
              "\n",
              "                                         clean_tweet emotion  \n",
              "0       time ticking fast relive past happy joy face   happy  \n",
              "1                                                NaN   happy  \n",
              "2  happy birthday one hot love much amazing frien...   happy  \n",
              "3  best cheer left min cant save happy like treas...   happy  \n",
              "4  good morning wishing day filled sunshine happi...   happy  \n",
              "5                                                NaN   happy  \n",
              "6  eric movie made happy several way think rely s...   happy  \n",
              "7  sandal give two met gala want twitter page see...   happy  \n",
              "8  beautiful bride fixed dress aisle happy moment...   happy  \n",
              "9  someone great one best chick romance hit reali...   happy  "
            ],
            "text/html": [
              "\n",
              "  <div id=\"df-96c8f7cc-bbee-4ba4-9c16-9d2809f8e9ee\">\n",
              "    <div class=\"colab-df-container\">\n",
              "      <div>\n",
              "<style scoped>\n",
              "    .dataframe tbody tr th:only-of-type {\n",
              "        vertical-align: middle;\n",
              "    }\n",
              "\n",
              "    .dataframe tbody tr th {\n",
              "        vertical-align: top;\n",
              "    }\n",
              "\n",
              "    .dataframe thead th {\n",
              "        text-align: right;\n",
              "    }\n",
              "</style>\n",
              "<table border=\"1\" class=\"dataframe\">\n",
              "  <thead>\n",
              "    <tr style=\"text-align: right;\">\n",
              "      <th></th>\n",
              "      <th>tweet</th>\n",
              "      <th>clean_tweet</th>\n",
              "      <th>emotion</th>\n",
              "    </tr>\n",
              "  </thead>\n",
              "  <tbody>\n",
              "    <tr>\n",
              "      <th>0</th>\n",
              "      <td>#1: @fe ed \"RT @MirayaDizon1: Time is ticking...</td>\n",
              "      <td>time ticking fast relive past happy joy face</td>\n",
              "      <td>happy</td>\n",
              "    </tr>\n",
              "    <tr>\n",
              "      <th>1</th>\n",
              "      <td>#2: @蓮花 &amp;はすか ed \"RT @ninjaryugo: ＃コナモンの日 だそうで...</td>\n",
              "      <td>NaN</td>\n",
              "      <td>happy</td>\n",
              "    </tr>\n",
              "    <tr>\n",
              "      <th>2</th>\n",
              "      <td>#3: @Ris ♡ ed \"Happy birthday to one smokin h...</td>\n",
              "      <td>happy birthday one hot love much amazing frien...</td>\n",
              "      <td>happy</td>\n",
              "    </tr>\n",
              "    <tr>\n",
              "      <th>3</th>\n",
              "      <td>#4: @월월 [씍쯴사랑로봇] jwinnie is the best, cheer u...</td>\n",
              "      <td>best cheer left min cant save happy like treas...</td>\n",
              "      <td>happy</td>\n",
              "    </tr>\n",
              "    <tr>\n",
              "      <th>4</th>\n",
              "      <td>#5: @Madhurima wth u vc♥ ed \"Good morning dea...</td>\n",
              "      <td>good morning wishing day filled sunshine happi...</td>\n",
              "      <td>happy</td>\n",
              "    </tr>\n",
              "    <tr>\n",
              "      <th>5</th>\n",
              "      <td>#6: @Jeinalís Ramos ed \"Happy moments 🙏🏽 http...</td>\n",
              "      <td>NaN</td>\n",
              "      <td>happy</td>\n",
              "    </tr>\n",
              "    <tr>\n",
              "      <th>6</th>\n",
              "      <td>#7: @Eric Rogers ed \"@CaitlinUnruh The movie ...</td>\n",
              "      <td>eric movie made happy several way think rely s...</td>\n",
              "      <td>happy</td>\n",
              "    </tr>\n",
              "    <tr>\n",
              "      <th>7</th>\n",
              "      <td>#8: @Yanny Sandal ed \"I don’t give two shits ...</td>\n",
              "      <td>sandal give two met gala want twitter page see...</td>\n",
              "      <td>happy</td>\n",
              "    </tr>\n",
              "    <tr>\n",
              "      <th>8</th>\n",
              "      <td>#9: @daynada ed \"my beautiful barbie bride an...</td>\n",
              "      <td>beautiful bride fixed dress aisle happy moment...</td>\n",
              "      <td>happy</td>\n",
              "    </tr>\n",
              "    <tr>\n",
              "      <th>9</th>\n",
              "      <td>#10: @ß🌪 ed \"Someone Great has been one of th...</td>\n",
              "      <td>someone great one best chick romance hit reali...</td>\n",
              "      <td>happy</td>\n",
              "    </tr>\n",
              "  </tbody>\n",
              "</table>\n",
              "</div>\n",
              "      <button class=\"colab-df-convert\" onclick=\"convertToInteractive('df-96c8f7cc-bbee-4ba4-9c16-9d2809f8e9ee')\"\n",
              "              title=\"Convert this dataframe to an interactive table.\"\n",
              "              style=\"display:none;\">\n",
              "        \n",
              "  <svg xmlns=\"http://www.w3.org/2000/svg\" height=\"24px\"viewBox=\"0 0 24 24\"\n",
              "       width=\"24px\">\n",
              "    <path d=\"M0 0h24v24H0V0z\" fill=\"none\"/>\n",
              "    <path d=\"M18.56 5.44l.94 2.06.94-2.06 2.06-.94-2.06-.94-.94-2.06-.94 2.06-2.06.94zm-11 1L8.5 8.5l.94-2.06 2.06-.94-2.06-.94L8.5 2.5l-.94 2.06-2.06.94zm10 10l.94 2.06.94-2.06 2.06-.94-2.06-.94-.94-2.06-.94 2.06-2.06.94z\"/><path d=\"M17.41 7.96l-1.37-1.37c-.4-.4-.92-.59-1.43-.59-.52 0-1.04.2-1.43.59L10.3 9.45l-7.72 7.72c-.78.78-.78 2.05 0 2.83L4 21.41c.39.39.9.59 1.41.59.51 0 1.02-.2 1.41-.59l7.78-7.78 2.81-2.81c.8-.78.8-2.07 0-2.86zM5.41 20L4 18.59l7.72-7.72 1.47 1.35L5.41 20z\"/>\n",
              "  </svg>\n",
              "      </button>\n",
              "      \n",
              "  <style>\n",
              "    .colab-df-container {\n",
              "      display:flex;\n",
              "      flex-wrap:wrap;\n",
              "      gap: 12px;\n",
              "    }\n",
              "\n",
              "    .colab-df-convert {\n",
              "      background-color: #E8F0FE;\n",
              "      border: none;\n",
              "      border-radius: 50%;\n",
              "      cursor: pointer;\n",
              "      display: none;\n",
              "      fill: #1967D2;\n",
              "      height: 32px;\n",
              "      padding: 0 0 0 0;\n",
              "      width: 32px;\n",
              "    }\n",
              "\n",
              "    .colab-df-convert:hover {\n",
              "      background-color: #E2EBFA;\n",
              "      box-shadow: 0px 1px 2px rgba(60, 64, 67, 0.3), 0px 1px 3px 1px rgba(60, 64, 67, 0.15);\n",
              "      fill: #174EA6;\n",
              "    }\n",
              "\n",
              "    [theme=dark] .colab-df-convert {\n",
              "      background-color: #3B4455;\n",
              "      fill: #D2E3FC;\n",
              "    }\n",
              "\n",
              "    [theme=dark] .colab-df-convert:hover {\n",
              "      background-color: #434B5C;\n",
              "      box-shadow: 0px 1px 3px 1px rgba(0, 0, 0, 0.15);\n",
              "      filter: drop-shadow(0px 1px 2px rgba(0, 0, 0, 0.3));\n",
              "      fill: #FFFFFF;\n",
              "    }\n",
              "  </style>\n",
              "\n",
              "      <script>\n",
              "        const buttonEl =\n",
              "          document.querySelector('#df-96c8f7cc-bbee-4ba4-9c16-9d2809f8e9ee button.colab-df-convert');\n",
              "        buttonEl.style.display =\n",
              "          google.colab.kernel.accessAllowed ? 'block' : 'none';\n",
              "\n",
              "        async function convertToInteractive(key) {\n",
              "          const element = document.querySelector('#df-96c8f7cc-bbee-4ba4-9c16-9d2809f8e9ee');\n",
              "          const dataTable =\n",
              "            await google.colab.kernel.invokeFunction('convertToInteractive',\n",
              "                                                     [key], {});\n",
              "          if (!dataTable) return;\n",
              "\n",
              "          const docLinkHtml = 'Like what you see? Visit the ' +\n",
              "            '<a target=\"_blank\" href=https://colab.research.google.com/notebooks/data_table.ipynb>data table notebook</a>'\n",
              "            + ' to learn more about interactive tables.';\n",
              "          element.innerHTML = '';\n",
              "          dataTable['output_type'] = 'display_data';\n",
              "          await google.colab.output.renderOutput(dataTable, element);\n",
              "          const docLink = document.createElement('div');\n",
              "          docLink.innerHTML = docLinkHtml;\n",
              "          element.appendChild(docLink);\n",
              "        }\n",
              "      </script>\n",
              "    </div>\n",
              "  </div>\n",
              "  "
            ]
          },
          "metadata": {},
          "execution_count": 257
        }
      ]
    },
    {
      "cell_type": "code",
      "source": [
        "df_preprocessed = df_preprocessed.dropna(subset=['clean_tweet'], how='any')\n",
        "df_preprocessed.shape"
      ],
      "metadata": {
        "colab": {
          "base_uri": "https://localhost:8080/"
        },
        "id": "xCJKHB82oPfv",
        "outputId": "8a31654f-8b32-4de3-aa76-7797ab09739c"
      },
      "execution_count": null,
      "outputs": [
        {
          "output_type": "execute_result",
          "data": {
            "text/plain": [
              "(7716, 3)"
            ]
          },
          "metadata": {},
          "execution_count": 258
        }
      ]
    },
    {
      "cell_type": "code",
      "source": [
        "df_preprocessed.to_csv(\"preprocessed_emotion_dataset.csv\", index=False)"
      ],
      "metadata": {
        "id": "mrAnJ8bbgt9v"
      },
      "execution_count": null,
      "outputs": []
    },
    {
      "cell_type": "code",
      "source": [
        "sns.countplot(df_preprocessed.emotion)\n",
        "plt.show()\n"
      ],
      "metadata": {
        "id": "3VyxZ8_jpSdy",
        "colab": {
          "base_uri": "https://localhost:8080/",
          "height": 279
        },
        "outputId": "691d16b7-b7b1-401d-ef54-dc7fdefff5a3"
      },
      "execution_count": null,
      "outputs": [
        {
          "output_type": "display_data",
          "data": {
            "text/plain": [
              "<Figure size 432x288 with 1 Axes>"
            ],
            "image/png": "[encoded data removed]"
          },
          "metadata": {
            "needs_background": "light"
          }
        }
      ]
    },
    {
      "cell_type": "code",
      "source": [],
      "metadata": {
        "id": "3J8pN_EntxcV"
      },
      "execution_count": null,
      "outputs": []
    }
  ]
}