{
  "nbformat": 4,
  "nbformat_minor": 0,
  "metadata": {
    "colab": {
      "provenance": []
    },
    "kernelspec": {
      "name": "python3",
      "display_name": "Python 3"
    },
    "language_info": {
      "name": "python"
    }
  },
  "cells": [
    {
      "cell_type": "markdown",
      "source": [
        " ## Import Libraries"
      ],
      "metadata": {
        "id": "vzHXjNz0hx8x"
      }
    },
    {
      "cell_type": "code",
      "execution_count": 19,
      "metadata": {
        "id": "FhZVjt97V1D7"
      },
      "outputs": [],
      "source": [
        "import numpy as np\n",
        "import pandas as pd\n",
        "from gensim.models import Word2Vec\n",
        "import nltk\n",
        "from sklearn import metrics\n",
        "from sklearn.feature_extraction.text import CountVectorizer,TfidfVectorizer\n",
        "import string\n",
        "import seaborn as sns\n",
        "from sklearn.metrics import accuracy_score\n",
        "import warnings\n",
        "warnings.filterwarnings('ignore')\n",
        "np.random.seed(42)"
      ]
    },
    {
      "cell_type": "code",
      "source": [
        "data = pd.read_csv('preprocessed_emotion_dataset.csv')\n",
        "data.drop(['tweet'], axis=1,inplace=True)\n",
        "c = CountVectorizer()\n",
        "x = c.fit_transform(data['clean_tweet']).toarray()\n",
        "y = data.iloc[:,-1]"
      ],
      "metadata": {
        "id": "q1hM_86JXvh_"
      },
      "execution_count": 20,
      "outputs": []
    },
    {
      "cell_type": "markdown",
      "source": [
        "## Word to Vector"
      ],
      "metadata": {
        "id": "EuFEI6TTh69H"
      }
    },
    {
      "cell_type": "code",
      "source": [
        "# create list of tokens\n",
        "sentences = []\n",
        "for i in range(data.shape[0]):\n",
        "  sentences.append(data.clean_tweet[i].split())\n",
        "\n",
        "\n",
        "# create Word2Vec model\n",
        "model = Word2Vec(sentences, min_count=1)\n",
        "\n",
        "\n",
        "# convert sentence to vector using word2vec\n",
        "data['clean_tweet_vector'] = data.clean_tweet.copy()\n",
        "for i, sent in enumerate(sentences):\n",
        "  data['clean_tweet_vector'][i] = np.mean(model[sent], axis=0)\n",
        "\n",
        "data.head()"
      ],
      "metadata": {
        "colab": {
          "base_uri": "https://localhost:8080/",
          "height": 206
        },
        "id": "lgXGao8z9zfd",
        "outputId": "44457647-0f35-499c-8dfd-5a5f1fd9043c"
      },
      "execution_count": 59,
      "outputs": [
        {
          "output_type": "execute_result",
          "data": {
            "text/plain": [
              "                                         clean_tweet emotion  \\\n",
              "0       time ticking fast relive past happy joy face   happy   \n",
              "1  happy birthday one hot love much amazing frien...   happy   \n",
              "2  best cheer left min cant save happy like treas...   happy   \n",
              "3  good morning wishing day filled sunshine happi...   happy   \n",
              "4  eric movie made happy several way think rely s...   happy   \n",
              "\n",
              "                                  clean_tweet_vector  \n",
              "0  [0.074514166, -0.31058, 0.09062411, -0.0577800...  \n",
              "1  [0.0952602, -0.3638543, 0.11053265, -0.0828822...  \n",
              "2  [0.08808311, -0.3742489, 0.10711605, -0.068894...  \n",
              "3  [0.07637323, -0.32164025, 0.095309265, -0.0561...  \n",
              "4  [0.05260541, -0.22646743, 0.06517481, -0.04005...  "
            ],
            "text/html": [
              "\n",
              "  <div id=\"df-c74f33fb-243b-45b8-baab-c3c6b786149d\">\n",
              "    <div class=\"colab-df-container\">\n",
              "      <div>\n",
              "<style scoped>\n",
              "    .dataframe tbody tr th:only-of-type {\n",
              "        vertical-align: middle;\n",
              "    }\n",
              "\n",
              "    .dataframe tbody tr th {\n",
              "        vertical-align: top;\n",
              "    }\n",
              "\n",
              "    .dataframe thead th {\n",
              "        text-align: right;\n",
              "    }\n",
              "</style>\n",
              "<table border=\"1\" class=\"dataframe\">\n",
              "  <thead>\n",
              "    <tr style=\"text-align: right;\">\n",
              "      <th></th>\n",
              "      <th>clean_tweet</th>\n",
              "      <th>emotion</th>\n",
              "      <th>clean_tweet_vector</th>\n",
              "    </tr>\n",
              "  </thead>\n",
              "  <tbody>\n",
              "    <tr>\n",
              "      <th>0</th>\n",
              "      <td>time ticking fast relive past happy joy face</td>\n",
              "      <td>happy</td>\n",
              "      <td>[0.074514166, -0.31058, 0.09062411, -0.0577800...</td>\n",
              "    </tr>\n",
              "    <tr>\n",
              "      <th>1</th>\n",
              "      <td>happy birthday one hot love much amazing frien...</td>\n",
              "      <td>happy</td>\n",
              "      <td>[0.0952602, -0.3638543, 0.11053265, -0.0828822...</td>\n",
              "    </tr>\n",
              "    <tr>\n",
              "      <th>2</th>\n",
              "      <td>best cheer left min cant save happy like treas...</td>\n",
              "      <td>happy</td>\n",
              "      <td>[0.08808311, -0.3742489, 0.10711605, -0.068894...</td>\n",
              "    </tr>\n",
              "    <tr>\n",
              "      <th>3</th>\n",
              "      <td>good morning wishing day filled sunshine happi...</td>\n",
              "      <td>happy</td>\n",
              "      <td>[0.07637323, -0.32164025, 0.095309265, -0.0561...</td>\n",
              "    </tr>\n",
              "    <tr>\n",
              "      <th>4</th>\n",
              "      <td>eric movie made happy several way think rely s...</td>\n",
              "      <td>happy</td>\n",
              "      <td>[0.05260541, -0.22646743, 0.06517481, -0.04005...</td>\n",
              "    </tr>\n",
              "  </tbody>\n",
              "</table>\n",
              "</div>\n",
              "      <button class=\"colab-df-convert\" onclick=\"convertToInteractive('df-c74f33fb-243b-45b8-baab-c3c6b786149d')\"\n",
              "              title=\"Convert this dataframe to an interactive table.\"\n",
              "              style=\"display:none;\">\n",
              "        \n",
              "  <svg xmlns=\"http://www.w3.org/2000/svg\" height=\"24px\"viewBox=\"0 0 24 24\"\n",
              "       width=\"24px\">\n",
              "    <path d=\"M0 0h24v24H0V0z\" fill=\"none\"/>\n",
              "    <path d=\"M18.56 5.44l.94 2.06.94-2.06 2.06-.94-2.06-.94-.94-2.06-.94 2.06-2.06.94zm-11 1L8.5 8.5l.94-2.06 2.06-.94-2.06-.94L8.5 2.5l-.94 2.06-2.06.94zm10 10l.94 2.06.94-2.06 2.06-.94-2.06-.94-.94-2.06-.94 2.06-2.06.94z\"/><path d=\"M17.41 7.96l-1.37-1.37c-.4-.4-.92-.59-1.43-.59-.52 0-1.04.2-1.43.59L10.3 9.45l-7.72 7.72c-.78.78-.78 2.05 0 2.83L4 21.41c.39.39.9.59 1.41.59.51 0 1.02-.2 1.41-.59l7.78-7.78 2.81-2.81c.8-.78.8-2.07 0-2.86zM5.41 20L4 18.59l7.72-7.72 1.47 1.35L5.41 20z\"/>\n",
              "  </svg>\n",
              "      </button>\n",
              "      \n",
              "  <style>\n",
              "    .colab-df-container {\n",
              "      display:flex;\n",
              "      flex-wrap:wrap;\n",
              "      gap: 12px;\n",
              "    }\n",
              "\n",
              "    .colab-df-convert {\n",
              "      background-color: #E8F0FE;\n",
              "      border: none;\n",
              "      border-radius: 50%;\n",
              "      cursor: pointer;\n",
              "      display: none;\n",
              "      fill: #1967D2;\n",
              "      height: 32px;\n",
              "      padding: 0 0 0 0;\n",
              "      width: 32px;\n",
              "    }\n",
              "\n",
              "    .colab-df-convert:hover {\n",
              "      background-color: #E2EBFA;\n",
              "      box-shadow: 0px 1px 2px rgba(60, 64, 67, 0.3), 0px 1px 3px 1px rgba(60, 64, 67, 0.15);\n",
              "      fill: #174EA6;\n",
              "    }\n",
              "\n",
              "    [theme=dark] .colab-df-convert {\n",
              "      background-color: #3B4455;\n",
              "      fill: #D2E3FC;\n",
              "    }\n",
              "\n",
              "    [theme=dark] .colab-df-convert:hover {\n",
              "      background-color: #434B5C;\n",
              "      box-shadow: 0px 1px 3px 1px rgba(0, 0, 0, 0.15);\n",
              "      filter: drop-shadow(0px 1px 2px rgba(0, 0, 0, 0.3));\n",
              "      fill: #FFFFFF;\n",
              "    }\n",
              "  </style>\n",
              "\n",
              "      <script>\n",
              "        const buttonEl =\n",
              "          document.querySelector('#df-c74f33fb-243b-45b8-baab-c3c6b786149d button.colab-df-convert');\n",
              "        buttonEl.style.display =\n",
              "          google.colab.kernel.accessAllowed ? 'block' : 'none';\n",
              "\n",
              "        async function convertToInteractive(key) {\n",
              "          const element = document.querySelector('#df-c74f33fb-243b-45b8-baab-c3c6b786149d');\n",
              "          const dataTable =\n",
              "            await google.colab.kernel.invokeFunction('convertToInteractive',\n",
              "                                                     [key], {});\n",
              "          if (!dataTable) return;\n",
              "\n",
              "          const docLinkHtml = 'Like what you see? Visit the ' +\n",
              "            '<a target=\"_blank\" href=https://colab.research.google.com/notebooks/data_table.ipynb>data table notebook</a>'\n",
              "            + ' to learn more about interactive tables.';\n",
              "          element.innerHTML = '';\n",
              "          dataTable['output_type'] = 'display_data';\n",
              "          await google.colab.output.renderOutput(dataTable, element);\n",
              "          const docLink = document.createElement('div');\n",
              "          docLink.innerHTML = docLinkHtml;\n",
              "          element.appendChild(docLink);\n",
              "        }\n",
              "      </script>\n",
              "    </div>\n",
              "  </div>\n",
              "  "
            ]
          },
          "metadata": {},
          "execution_count": 59
        }
      ]
    },
    {
      "cell_type": "markdown",
      "source": [
        "## split data intor train and test"
      ],
      "metadata": {
        "id": "YgY9qhNBVvii"
      }
    },
    {
      "cell_type": "code",
      "source": [
        "from sklearn.model_selection import train_test_split\n",
        "x_train, x_test, y_train, y_test = train_test_split(x, y, test_size=0.2, random_state=42)\n",
        "print(x_train.shape)\n",
        "print(x_test.shape)\n",
        "print(y_train.shape)\n",
        "print(y_test.shape)"
      ],
      "metadata": {
        "id": "RlSzb-yfCQuD",
        "colab": {
          "base_uri": "https://localhost:8080/"
        },
        "outputId": "15df66d7-09fb-4a6a-bbdc-d72759ea9597"
      },
      "execution_count": 61,
      "outputs": [
        {
          "output_type": "stream",
          "name": "stdout",
          "text": [
            "(6172, 8014)\n",
            "(1544, 8014)\n",
            "(6172,)\n",
            "(1544,)\n"
          ]
        }
      ]
    },
    {
      "cell_type": "markdown",
      "source": [
        "# **Naive Bayes**"
      ],
      "metadata": {
        "id": "ntCrpGOLiRSq"
      }
    },
    {
      "cell_type": "code",
      "source": [
        "from sklearn.naive_bayes import GaussianNB\n",
        "\n",
        "gnb = GaussianNB()\n",
        "y_p1 = gnb.fit(x_train, y_train).predict(x_test)"
      ],
      "metadata": {
        "id": "jZayERi6cr7E"
      },
      "execution_count": 62,
      "outputs": []
    },
    {
      "cell_type": "code",
      "source": [
        "from sklearn.metrics import precision_score, recall_score, f1_score\n",
        "from sklearn.metrics import confusion_matrix\n",
        "\n",
        "\n",
        "precision = precision_score(y_test, y_p1, average='weighted')\n",
        "recall = recall_score(y_test, y_p1, average='weighted')\n",
        "fscore = f1_score(y_test, y_p1, average='weighted')\n",
        "\n",
        "print('Accuracy:', accuracy_score(y_test, y_p1))\n",
        "print('precision: {}'.format(precision))\n",
        "print('recall: {}'.format(recall))\n",
        "print('fscore: {}'.format(fscore))"
      ],
      "metadata": {
        "colab": {
          "base_uri": "https://localhost:8080/"
        },
        "id": "qB-qm_S3gM6e",
        "outputId": "a3703538-2b8f-42a2-cf30-5faaccbab9fb"
      },
      "execution_count": 79,
      "outputs": [
        {
          "output_type": "stream",
          "name": "stdout",
          "text": [
            "Accuracy: 0.5958549222797928\n",
            "precision: 0.6095822417691428\n",
            "recall: 0.5958549222797928\n",
            "fscore: 0.5972450171800386\n"
          ]
        }
      ]
    },
    {
      "cell_type": "code",
      "source": [
        "cm1 = confusion_matrix(y_p1, y_test)\n",
        "sns.heatmap(cm1, annot=True, fmt='.0f')"
      ],
      "metadata": {
        "colab": {
          "base_uri": "https://localhost:8080/",
          "height": 282
        },
        "id": "YFL_HL-TgaK_",
        "outputId": "93a1a20c-c07a-4ca3-8805-dfcc5fff35a4"
      },
      "execution_count": 64,
      "outputs": [
        {
          "output_type": "execute_result",
          "data": {
            "text/plain": [
              "<AxesSubplot:>"
            ]
          },
          "metadata": {},
          "execution_count": 64
        },
        {
          "output_type": "display_data",
          "data": {
            "text/plain": [
              "<Figure size 432x288 with 2 Axes>"
            ],
            "image/png": "[encoded data removed]"
          },
          "metadata": {
            "needs_background": "light"
          }
        }
      ]
    },
    {
      "cell_type": "markdown",
      "source": [
        "# **Support Vector Machine**"
      ],
      "metadata": {
        "id": "DheRWvqwi6wv"
      }
    },
    {
      "cell_type": "code",
      "source": [
        "from sklearn import svm\n",
        "\n",
        "s = svm.SVC(kernel='linear')\n",
        "s.fit(x_train, y_train)\n",
        "y_p2 = s.predict(x_test)"
      ],
      "metadata": {
        "id": "JkoJavi2Px4I"
      },
      "execution_count": 65,
      "outputs": []
    },
    {
      "cell_type": "code",
      "source": [
        "print('Accuracy:', accuracy_score(y_test,y_p2))\n",
        "precision = precision_score(y_test, y_p2, average='weighted')\n",
        "recall = recall_score(y_test, y_p2, average='weighted')\n",
        "fscore = f1_score(y_test, y_p2, average='weighted')\n",
        "\n",
        "print('precision: {}'.format(precision))\n",
        "print('recall: {}'.format(recall))\n",
        "print('fscore: {}'.format(fscore))"
      ],
      "metadata": {
        "colab": {
          "base_uri": "https://localhost:8080/"
        },
        "id": "IgF0eyHLflNZ",
        "outputId": "6f668591-b327-4fdf-c350-b23c4076e040"
      },
      "execution_count": 78,
      "outputs": [
        {
          "output_type": "stream",
          "name": "stdout",
          "text": [
            "Accuracy: 0.8788860103626943\n",
            "precision: 0.8791097952411145\n",
            "recall: 0.8788860103626943\n",
            "fscore: 0.87821139603388\n"
          ]
        }
      ]
    },
    {
      "cell_type": "code",
      "source": [
        "cm2 = confusion_matrix(y_p2,y_test)\n",
        "sns.heatmap(cm2, annot=True, fmt='.0f')"
      ],
      "metadata": {
        "colab": {
          "base_uri": "https://localhost:8080/",
          "height": 282
        },
        "id": "aa-SaKOAcmVT",
        "outputId": "2386ba61-c748-4a4a-cda5-2f7de7345cb6"
      },
      "execution_count": 67,
      "outputs": [
        {
          "output_type": "execute_result",
          "data": {
            "text/plain": [
              "<AxesSubplot:>"
            ]
          },
          "metadata": {},
          "execution_count": 67
        },
        {
          "output_type": "display_data",
          "data": {
            "text/plain": [
              "<Figure size 432x288 with 2 Axes>"
            ],
            "image/png": "[encoded data removed]"
          },
          "metadata": {
            "needs_background": "light"
          }
        }
      ]
    },
    {
      "cell_type": "markdown",
      "source": [
        "# **Decision Tree**"
      ],
      "metadata": {
        "id": "4l7FedKTjSoV"
      }
    },
    {
      "cell_type": "code",
      "source": [
        "from sklearn import tree\n",
        "\n",
        "clf = tree.DecisionTreeClassifier()\n",
        "clf = clf.fit(x_train, y_train)\n",
        "y_p3 = clf.predict(x_test)"
      ],
      "metadata": {
        "id": "5NYmCrLSDzaY"
      },
      "execution_count": 68,
      "outputs": []
    },
    {
      "cell_type": "code",
      "source": [
        "\n",
        "precision = precision_score(y_test, y_p3, average='weighted')\n",
        "recall = recall_score(y_test, y_p3, average='weighted')\n",
        "fscore = f1_score(y_test, y_p3, average='weighted')\n",
        "print('Accuracy:', accuracy_score(y_test, y_p3))\n",
        "print('precision: {}'.format(precision))\n",
        "print('recall: {}'.format(recall))\n",
        "print('fscore: {}'.format(fscore))"
      ],
      "metadata": {
        "colab": {
          "base_uri": "https://localhost:8080/"
        },
        "id": "KsTO5JJFfFYq",
        "outputId": "66705ca6-6b69-43fc-c92a-3ce1db4acdb4"
      },
      "execution_count": 77,
      "outputs": [
        {
          "output_type": "stream",
          "name": "stdout",
          "text": [
            "Accuracy: 0.8814766839378239\n",
            "precision: 0.8830594771029311\n",
            "recall: 0.8814766839378239\n",
            "fscore: 0.8806872428799765\n"
          ]
        }
      ]
    },
    {
      "cell_type": "code",
      "source": [
        "cm3 = confusion_matrix(y_p3, y_test)\n",
        "sns.heatmap(cm3, annot=True, fmt='.0f')"
      ],
      "metadata": {
        "colab": {
          "base_uri": "https://localhost:8080/",
          "height": 282
        },
        "id": "STrY0jCgcKTE",
        "outputId": "aae5d9a0-7452-4512-aef0-91362f6fec4e"
      },
      "execution_count": 70,
      "outputs": [
        {
          "output_type": "execute_result",
          "data": {
            "text/plain": [
              "<AxesSubplot:>"
            ]
          },
          "metadata": {},
          "execution_count": 70
        },
        {
          "output_type": "display_data",
          "data": {
            "text/plain": [
              "<Figure size 432x288 with 2 Axes>"
            ],
            "image/png": "[encoded data removed]"
          },
          "metadata": {
            "needs_background": "light"
          }
        }
      ]
    },
    {
      "cell_type": "code",
      "source": [
        "import graphviz\n",
        "dot_data = tree.export_graphviz(clf, class_names=['happy','sad','angry','fear','surprise','disgust'] ,filled=True, max_depth=4)\n",
        "graph = graphviz.Source(dot_data, format=\"png\") \n",
        "graph"
      ],
      "metadata": {
        "colab": {
          "base_uri": "https://localhost:8080/",
          "height": 893
        },
        "id": "mv5GKv5NQ2ZX",
        "outputId": "628ffdd9-d3b9-40e5-cac9-b97e38277115"
      },
      "execution_count": 71,
      "outputs": [
        {
          "output_type": "execute_result",
          "data": {
            "text/plain": [
              "<graphviz.files.Source at 0x7f67c8fa2730>"
            ],
            "image/svg+xml": "<?xml version=\"1.0\" encoding=\"UTF-8\" standalone=\"no\"?>\n<!DOCTYPE svg PUBLIC \"-//W3C//DTD SVG 1.1//EN\"\n \"http://www.w3.org/Graphics/SVG/1.1/DTD/svg11.dtd\">\n<!-- Generated by graphviz version 2.43.0 (0)\n -->\n<!-- Title: Tree Pages: 1 -->\n<svg width=\"1453pt\" height=\"639pt\"\n viewBox=\"0.00 0.00 1452.50 639.00\" xmlns=\"http://www.w3.org/2000/svg\" xmlns:xlink=\"http://www.w3.org/1999/xlink\">\n<g id=\"graph0\" class=\"graph\" transform=\"scale(1 1) rotate(0) translate(4 635)\">\n<title>Tree</title>\n<polygon fill=\"white\" stroke=\"transparent\" points=\"-4,4 -4,-635 1448.5,-635 1448.5,4 -4,4\"/>\n<!-- 0 -->\n<g id=\"node1\" class=\"node\">\n<title>0</title>\n<polygon fill=\"#dfeffb\" stroke=\"black\" points=\"1015,-631 755,-631 755,-548 1015,-548 1015,-631\"/>\n<text text-anchor=\"middle\" x=\"885\" y=\"-615.8\" font-family=\"Helvetica,sans-Serif\" font-size=\"14.00\">x[7390] &lt;= 0.5</text>\n<text text-anchor=\"middle\" x=\"885\" y=\"-600.8\" font-family=\"Helvetica,sans-Serif\" font-size=\"14.00\">gini = 0.724</text>\n<text text-anchor=\"middle\" x=\"885\" y=\"-585.8\" font-family=\"Helvetica,sans-Serif\" font-size=\"14.00\">samples = 6172</text>\n<text text-anchor=\"middle\" x=\"885\" y=\"-570.8\" font-family=\"Helvetica,sans-Serif\" font-size=\"14.00\">value = [766, 443, 464, 2498, 1799, 202]</text>\n<text text-anchor=\"middle\" x=\"885\" y=\"-555.8\" font-family=\"Helvetica,sans-Serif\" font-size=\"14.00\">class = fear</text>\n</g>\n<!-- 1 -->\n<g id=\"node2\" class=\"node\">\n<title>1</title>\n<polygon fill=\"#b5daf5\" stroke=\"black\" points=\"853,-512 601,-512 601,-429 853,-429 853,-512\"/>\n<text text-anchor=\"middle\" x=\"727\" y=\"-496.8\" font-family=\"Helvetica,sans-Serif\" font-size=\"14.00\">x[6807] &lt;= 0.5</text>\n<text text-anchor=\"middle\" x=\"727\" y=\"-481.8\" font-family=\"Helvetica,sans-Serif\" font-size=\"14.00\">gini = 0.699</text>\n<text text-anchor=\"middle\" x=\"727\" y=\"-466.8\" font-family=\"Helvetica,sans-Serif\" font-size=\"14.00\">samples = 5117</text>\n<text text-anchor=\"middle\" x=\"727\" y=\"-451.8\" font-family=\"Helvetica,sans-Serif\" font-size=\"14.00\">value = [588, 443, 464, 2498, 922, 202]</text>\n<text text-anchor=\"middle\" x=\"727\" y=\"-436.8\" font-family=\"Helvetica,sans-Serif\" font-size=\"14.00\">class = fear</text>\n</g>\n<!-- 0&#45;&gt;1 -->\n<g id=\"edge1\" class=\"edge\">\n<title>0&#45;&gt;1</title>\n<path fill=\"none\" stroke=\"black\" d=\"M830.18,-547.91C817.19,-538.29 803.24,-527.95 789.92,-518.09\"/>\n<polygon fill=\"black\" stroke=\"black\" points=\"791.84,-515.16 781.72,-512.02 787.67,-520.78 791.84,-515.16\"/>\n<text text-anchor=\"middle\" x=\"785.41\" y=\"-533.05\" font-family=\"Helvetica,sans-Serif\" font-size=\"14.00\">True</text>\n</g>\n<!-- 1502 -->\n<g id=\"node13\" class=\"node\">\n<title>1502</title>\n<polygon fill=\"#9b61ea\" stroke=\"black\" points=\"1096.5,-512 911.5,-512 911.5,-429 1096.5,-429 1096.5,-512\"/>\n<text text-anchor=\"middle\" x=\"1004\" y=\"-496.8\" font-family=\"Helvetica,sans-Serif\" font-size=\"14.00\">x[3779] &lt;= 0.5</text>\n<text text-anchor=\"middle\" x=\"1004\" y=\"-481.8\" font-family=\"Helvetica,sans-Serif\" font-size=\"14.00\">gini = 0.281</text>\n<text text-anchor=\"middle\" x=\"1004\" y=\"-466.8\" font-family=\"Helvetica,sans-Serif\" font-size=\"14.00\">samples = 1055</text>\n<text text-anchor=\"middle\" x=\"1004\" y=\"-451.8\" font-family=\"Helvetica,sans-Serif\" font-size=\"14.00\">value = [178, 0, 0, 0, 877, 0]</text>\n<text text-anchor=\"middle\" x=\"1004\" y=\"-436.8\" font-family=\"Helvetica,sans-Serif\" font-size=\"14.00\">class = surprise</text>\n</g>\n<!-- 0&#45;&gt;1502 -->\n<g id=\"edge12\" class=\"edge\">\n<title>0&#45;&gt;1502</title>\n<path fill=\"none\" stroke=\"black\" d=\"M926.29,-547.91C935.7,-538.65 945.79,-528.73 955.48,-519.21\"/>\n<polygon fill=\"black\" stroke=\"black\" points=\"958.11,-521.53 962.79,-512.02 953.2,-516.54 958.11,-521.53\"/>\n<text text-anchor=\"middle\" x=\"962.57\" y=\"-533.32\" font-family=\"Helvetica,sans-Serif\" font-size=\"14.00\">False</text>\n</g>\n<!-- 2 -->\n<g id=\"node3\" class=\"node\">\n<title>2</title>\n<polygon fill=\"#b3daf5\" stroke=\"black\" points=\"589,-393 337,-393 337,-310 589,-310 589,-393\"/>\n<text text-anchor=\"middle\" x=\"463\" y=\"-377.8\" font-family=\"Helvetica,sans-Serif\" font-size=\"14.00\">x[3778] &lt;= 0.5</text>\n<text text-anchor=\"middle\" x=\"463\" y=\"-362.8\" font-family=\"Helvetica,sans-Serif\" font-size=\"14.00\">gini = 0.692</text>\n<text text-anchor=\"middle\" x=\"463\" y=\"-347.8\" font-family=\"Helvetica,sans-Serif\" font-size=\"14.00\">samples = 5052</text>\n<text text-anchor=\"middle\" x=\"463\" y=\"-332.8\" font-family=\"Helvetica,sans-Serif\" font-size=\"14.00\">value = [588, 443, 463, 2498, 922, 138]</text>\n<text text-anchor=\"middle\" x=\"463\" y=\"-317.8\" font-family=\"Helvetica,sans-Serif\" font-size=\"14.00\">class = fear</text>\n</g>\n<!-- 1&#45;&gt;2 -->\n<g id=\"edge2\" class=\"edge\">\n<title>1&#45;&gt;2</title>\n<path fill=\"none\" stroke=\"black\" d=\"M635.41,-428.91C612.27,-418.65 587.29,-407.59 563.73,-397.14\"/>\n<polygon fill=\"black\" stroke=\"black\" points=\"564.99,-393.87 554.43,-393.02 562.16,-400.27 564.99,-393.87\"/>\n</g>\n<!-- 1499 -->\n<g id=\"node10\" class=\"node\">\n<title>1499</title>\n<polygon fill=\"#e53c9f\" stroke=\"black\" points=\"808,-393 646,-393 646,-310 808,-310 808,-393\"/>\n<text text-anchor=\"middle\" x=\"727\" y=\"-377.8\" font-family=\"Helvetica,sans-Serif\" font-size=\"14.00\">x[231] &lt;= 0.5</text>\n<text text-anchor=\"middle\" x=\"727\" y=\"-362.8\" font-family=\"Helvetica,sans-Serif\" font-size=\"14.00\">gini = 0.03</text>\n<text text-anchor=\"middle\" x=\"727\" y=\"-347.8\" font-family=\"Helvetica,sans-Serif\" font-size=\"14.00\">samples = 65</text>\n<text text-anchor=\"middle\" x=\"727\" y=\"-332.8\" font-family=\"Helvetica,sans-Serif\" font-size=\"14.00\">value = [0, 0, 1, 0, 0, 64]</text>\n<text text-anchor=\"middle\" x=\"727\" y=\"-317.8\" font-family=\"Helvetica,sans-Serif\" font-size=\"14.00\">class = disgust</text>\n</g>\n<!-- 1&#45;&gt;1499 -->\n<g id=\"edge9\" class=\"edge\">\n<title>1&#45;&gt;1499</title>\n<path fill=\"none\" stroke=\"black\" d=\"M727,-428.91C727,-420.65 727,-411.86 727,-403.3\"/>\n<polygon fill=\"black\" stroke=\"black\" points=\"730.5,-403.02 727,-393.02 723.5,-403.02 730.5,-403.02\"/>\n</g>\n<!-- 3 -->\n<g id=\"node4\" class=\"node\">\n<title>3</title>\n<polygon fill=\"#b2d9f5\" stroke=\"black\" points=\"364,-274 112,-274 112,-191 364,-191 364,-274\"/>\n<text text-anchor=\"middle\" x=\"238\" y=\"-258.8\" font-family=\"Helvetica,sans-Serif\" font-size=\"14.00\">x[507] &lt;= 0.5</text>\n<text text-anchor=\"middle\" x=\"238\" y=\"-243.8\" font-family=\"Helvetica,sans-Serif\" font-size=\"14.00\">gini = 0.687</text>\n<text text-anchor=\"middle\" x=\"238\" y=\"-228.8\" font-family=\"Helvetica,sans-Serif\" font-size=\"14.00\">samples = 4994</text>\n<text text-anchor=\"middle\" x=\"238\" y=\"-213.8\" font-family=\"Helvetica,sans-Serif\" font-size=\"14.00\">value = [530, 443, 463, 2498, 922, 138]</text>\n<text text-anchor=\"middle\" x=\"238\" y=\"-198.8\" font-family=\"Helvetica,sans-Serif\" font-size=\"14.00\">class = fear</text>\n</g>\n<!-- 2&#45;&gt;3 -->\n<g id=\"edge3\" class=\"edge\">\n<title>2&#45;&gt;3</title>\n<path fill=\"none\" stroke=\"black\" d=\"M384.94,-309.91C365.57,-299.83 344.69,-288.98 324.92,-278.7\"/>\n<polygon fill=\"black\" stroke=\"black\" points=\"326.41,-275.53 315.92,-274.02 323.18,-281.74 326.41,-275.53\"/>\n</g>\n<!-- 1498 -->\n<g id=\"node9\" class=\"node\">\n<title>1498</title>\n<polygon fill=\"#e58139\" stroke=\"black\" points=\"544,-266.5 382,-266.5 382,-198.5 544,-198.5 544,-266.5\"/>\n<text text-anchor=\"middle\" x=\"463\" y=\"-251.3\" font-family=\"Helvetica,sans-Serif\" font-size=\"14.00\">gini = 0.0</text>\n<text text-anchor=\"middle\" x=\"463\" y=\"-236.3\" font-family=\"Helvetica,sans-Serif\" font-size=\"14.00\">samples = 58</text>\n<text text-anchor=\"middle\" x=\"463\" y=\"-221.3\" font-family=\"Helvetica,sans-Serif\" font-size=\"14.00\">value = [58, 0, 0, 0, 0, 0]</text>\n<text text-anchor=\"middle\" x=\"463\" y=\"-206.3\" font-family=\"Helvetica,sans-Serif\" font-size=\"14.00\">class = happy</text>\n</g>\n<!-- 2&#45;&gt;1498 -->\n<g id=\"edge8\" class=\"edge\">\n<title>2&#45;&gt;1498</title>\n<path fill=\"none\" stroke=\"black\" d=\"M463,-309.91C463,-299.2 463,-287.62 463,-276.78\"/>\n<polygon fill=\"black\" stroke=\"black\" points=\"466.5,-276.67 463,-266.67 459.5,-276.67 466.5,-276.67\"/>\n</g>\n<!-- 4 -->\n<g id=\"node5\" class=\"node\">\n<title>4</title>\n<polygon fill=\"#b1d9f5\" stroke=\"black\" points=\"252,-155 0,-155 0,-72 252,-72 252,-155\"/>\n<text text-anchor=\"middle\" x=\"126\" y=\"-139.8\" font-family=\"Helvetica,sans-Serif\" font-size=\"14.00\">x[3299] &lt;= 0.5</text>\n<text text-anchor=\"middle\" x=\"126\" y=\"-124.8\" font-family=\"Helvetica,sans-Serif\" font-size=\"14.00\">gini = 0.682</text>\n<text text-anchor=\"middle\" x=\"126\" y=\"-109.8\" font-family=\"Helvetica,sans-Serif\" font-size=\"14.00\">samples = 4942</text>\n<text text-anchor=\"middle\" x=\"126\" y=\"-94.8\" font-family=\"Helvetica,sans-Serif\" font-size=\"14.00\">value = [530, 391, 463, 2498, 922, 138]</text>\n<text text-anchor=\"middle\" x=\"126\" y=\"-79.8\" font-family=\"Helvetica,sans-Serif\" font-size=\"14.00\">class = fear</text>\n</g>\n<!-- 3&#45;&gt;4 -->\n<g id=\"edge4\" class=\"edge\">\n<title>3&#45;&gt;4</title>\n<path fill=\"none\" stroke=\"black\" d=\"M199.14,-190.91C190.37,-181.74 180.97,-171.93 171.94,-162.49\"/>\n<polygon fill=\"black\" stroke=\"black\" points=\"174.23,-159.82 164.79,-155.02 169.18,-164.66 174.23,-159.82\"/>\n</g>\n<!-- 1497 -->\n<g id=\"node8\" class=\"node\">\n<title>1497</title>\n<polygon fill=\"#9de539\" stroke=\"black\" points=\"432,-147.5 270,-147.5 270,-79.5 432,-79.5 432,-147.5\"/>\n<text text-anchor=\"middle\" x=\"351\" y=\"-132.3\" font-family=\"Helvetica,sans-Serif\" font-size=\"14.00\">gini = 0.0</text>\n<text text-anchor=\"middle\" x=\"351\" y=\"-117.3\" font-family=\"Helvetica,sans-Serif\" font-size=\"14.00\">samples = 52</text>\n<text text-anchor=\"middle\" x=\"351\" y=\"-102.3\" font-family=\"Helvetica,sans-Serif\" font-size=\"14.00\">value = [0, 52, 0, 0, 0, 0]</text>\n<text text-anchor=\"middle\" x=\"351\" y=\"-87.3\" font-family=\"Helvetica,sans-Serif\" font-size=\"14.00\">class = sad</text>\n</g>\n<!-- 3&#45;&gt;1497 -->\n<g id=\"edge7\" class=\"edge\">\n<title>3&#45;&gt;1497</title>\n<path fill=\"none\" stroke=\"black\" d=\"M277.2,-190.91C288.39,-179.32 300.59,-166.7 311.78,-155.11\"/>\n<polygon fill=\"black\" stroke=\"black\" points=\"314.54,-157.29 318.97,-147.67 309.5,-152.43 314.54,-157.29\"/>\n</g>\n<!-- 5 -->\n<g id=\"node6\" class=\"node\">\n<title>5</title>\n<polygon fill=\"#c0c0c0\" stroke=\"black\" points=\"117,-36 63,-36 63,0 117,0 117,-36\"/>\n<text text-anchor=\"middle\" x=\"90\" y=\"-14.3\" font-family=\"Helvetica,sans-Serif\" font-size=\"14.00\">(...)</text>\n</g>\n<!-- 4&#45;&gt;5 -->\n<g id=\"edge5\" class=\"edge\">\n<title>4&#45;&gt;5</title>\n<path fill=\"none\" stroke=\"black\" d=\"M110.31,-71.76C106.96,-63.04 103.49,-54.04 100.39,-45.99\"/>\n<polygon fill=\"black\" stroke=\"black\" points=\"103.56,-44.48 96.7,-36.41 97.03,-46.99 103.56,-44.48\"/>\n</g>\n<!-- 1494 -->\n<g id=\"node7\" class=\"node\">\n<title>1494</title>\n<polygon fill=\"#c0c0c0\" stroke=\"black\" points=\"189,-36 135,-36 135,0 189,0 189,-36\"/>\n<text text-anchor=\"middle\" x=\"162\" y=\"-14.3\" font-family=\"Helvetica,sans-Serif\" font-size=\"14.00\">(...)</text>\n</g>\n<!-- 4&#45;&gt;1494 -->\n<g id=\"edge6\" class=\"edge\">\n<title>4&#45;&gt;1494</title>\n<path fill=\"none\" stroke=\"black\" d=\"M141.69,-71.76C145.04,-63.04 148.51,-54.04 151.61,-45.99\"/>\n<polygon fill=\"black\" stroke=\"black\" points=\"154.97,-46.99 155.3,-36.41 148.44,-44.48 154.97,-46.99\"/>\n</g>\n<!-- 1500 -->\n<g id=\"node11\" class=\"node\">\n<title>1500</title>\n<polygon fill=\"#e5399d\" stroke=\"black\" points=\"724,-266.5 562,-266.5 562,-198.5 724,-198.5 724,-266.5\"/>\n<text text-anchor=\"middle\" x=\"643\" y=\"-251.3\" font-family=\"Helvetica,sans-Serif\" font-size=\"14.00\">gini = 0.0</text>\n<text text-anchor=\"middle\" x=\"643\" y=\"-236.3\" font-family=\"Helvetica,sans-Serif\" font-size=\"14.00\">samples = 64</text>\n<text text-anchor=\"middle\" x=\"643\" y=\"-221.3\" font-family=\"Helvetica,sans-Serif\" font-size=\"14.00\">value = [0, 0, 0, 0, 0, 64]</text>\n<text text-anchor=\"middle\" x=\"643\" y=\"-206.3\" font-family=\"Helvetica,sans-Serif\" font-size=\"14.00\">class = disgust</text>\n</g>\n<!-- 1499&#45;&gt;1500 -->\n<g id=\"edge10\" class=\"edge\">\n<title>1499&#45;&gt;1500</title>\n<path fill=\"none\" stroke=\"black\" d=\"M697.86,-309.91C689.78,-298.65 680.99,-286.42 672.87,-275.11\"/>\n<polygon fill=\"black\" stroke=\"black\" points=\"675.49,-272.75 666.81,-266.67 669.8,-276.83 675.49,-272.75\"/>\n</g>\n<!-- 1501 -->\n<g id=\"node12\" class=\"node\">\n<title>1501</title>\n<polygon fill=\"#39e581\" stroke=\"black\" points=\"897.5,-266.5 742.5,-266.5 742.5,-198.5 897.5,-198.5 897.5,-266.5\"/>\n<text text-anchor=\"middle\" x=\"820\" y=\"-251.3\" font-family=\"Helvetica,sans-Serif\" font-size=\"14.00\">gini = 0.0</text>\n<text text-anchor=\"middle\" x=\"820\" y=\"-236.3\" font-family=\"Helvetica,sans-Serif\" font-size=\"14.00\">samples = 1</text>\n<text text-anchor=\"middle\" x=\"820\" y=\"-221.3\" font-family=\"Helvetica,sans-Serif\" font-size=\"14.00\">value = [0, 0, 1, 0, 0, 0]</text>\n<text text-anchor=\"middle\" x=\"820\" y=\"-206.3\" font-family=\"Helvetica,sans-Serif\" font-size=\"14.00\">class = angry</text>\n</g>\n<!-- 1499&#45;&gt;1501 -->\n<g id=\"edge11\" class=\"edge\">\n<title>1499&#45;&gt;1501</title>\n<path fill=\"none\" stroke=\"black\" d=\"M759.27,-309.91C768.3,-298.54 778.13,-286.18 787.19,-274.77\"/>\n<polygon fill=\"black\" stroke=\"black\" points=\"790.15,-276.67 793.64,-266.67 784.67,-272.32 790.15,-276.67\"/>\n</g>\n<!-- 1503 -->\n<g id=\"node14\" class=\"node\">\n<title>1503</title>\n<polygon fill=\"#9254e9\" stroke=\"black\" points=\"1096.5,-393 911.5,-393 911.5,-310 1096.5,-310 1096.5,-393\"/>\n<text text-anchor=\"middle\" x=\"1004\" y=\"-377.8\" font-family=\"Helvetica,sans-Serif\" font-size=\"14.00\">x[290] &lt;= 0.5</text>\n<text text-anchor=\"middle\" x=\"1004\" y=\"-362.8\" font-family=\"Helvetica,sans-Serif\" font-size=\"14.00\">gini = 0.21</text>\n<text text-anchor=\"middle\" x=\"1004\" y=\"-347.8\" font-family=\"Helvetica,sans-Serif\" font-size=\"14.00\">samples = 996</text>\n<text text-anchor=\"middle\" x=\"1004\" y=\"-332.8\" font-family=\"Helvetica,sans-Serif\" font-size=\"14.00\">value = [119, 0, 0, 0, 877, 0]</text>\n<text text-anchor=\"middle\" x=\"1004\" y=\"-317.8\" font-family=\"Helvetica,sans-Serif\" font-size=\"14.00\">class = surprise</text>\n</g>\n<!-- 1502&#45;&gt;1503 -->\n<g id=\"edge13\" class=\"edge\">\n<title>1502&#45;&gt;1503</title>\n<path fill=\"none\" stroke=\"black\" d=\"M1004,-428.91C1004,-420.65 1004,-411.86 1004,-403.3\"/>\n<polygon fill=\"black\" stroke=\"black\" points=\"1007.5,-403.02 1004,-393.02 1000.5,-403.02 1007.5,-403.02\"/>\n</g>\n<!-- 1564 -->\n<g id=\"node27\" class=\"node\">\n<title>1564</title>\n<polygon fill=\"#e58139\" stroke=\"black\" points=\"1277,-385.5 1115,-385.5 1115,-317.5 1277,-317.5 1277,-385.5\"/>\n<text text-anchor=\"middle\" x=\"1196\" y=\"-370.3\" font-family=\"Helvetica,sans-Serif\" font-size=\"14.00\">gini = 0.0</text>\n<text text-anchor=\"middle\" x=\"1196\" y=\"-355.3\" font-family=\"Helvetica,sans-Serif\" font-size=\"14.00\">samples = 59</text>\n<text text-anchor=\"middle\" x=\"1196\" y=\"-340.3\" font-family=\"Helvetica,sans-Serif\" font-size=\"14.00\">value = [59, 0, 0, 0, 0, 0]</text>\n<text text-anchor=\"middle\" x=\"1196\" y=\"-325.3\" font-family=\"Helvetica,sans-Serif\" font-size=\"14.00\">class = happy</text>\n</g>\n<!-- 1502&#45;&gt;1564 -->\n<g id=\"edge26\" class=\"edge\">\n<title>1502&#45;&gt;1564</title>\n<path fill=\"none\" stroke=\"black\" d=\"M1070.61,-428.91C1090.8,-416.6 1112.91,-403.13 1132.87,-390.97\"/>\n<polygon fill=\"black\" stroke=\"black\" points=\"1134.85,-393.86 1141.57,-385.67 1131.21,-387.88 1134.85,-393.86\"/>\n</g>\n<!-- 1504 -->\n<g id=\"node15\" class=\"node\">\n<title>1504</title>\n<polygon fill=\"#8b49e7\" stroke=\"black\" points=\"1092.5,-274 915.5,-274 915.5,-191 1092.5,-191 1092.5,-274\"/>\n<text text-anchor=\"middle\" x=\"1004\" y=\"-258.8\" font-family=\"Helvetica,sans-Serif\" font-size=\"14.00\">x[305] &lt;= 0.5</text>\n<text text-anchor=\"middle\" x=\"1004\" y=\"-243.8\" font-family=\"Helvetica,sans-Serif\" font-size=\"14.00\">gini = 0.139</text>\n<text text-anchor=\"middle\" x=\"1004\" y=\"-228.8\" font-family=\"Helvetica,sans-Serif\" font-size=\"14.00\">samples = 942</text>\n<text text-anchor=\"middle\" x=\"1004\" y=\"-213.8\" font-family=\"Helvetica,sans-Serif\" font-size=\"14.00\">value = [71, 0, 0, 0, 871, 0]</text>\n<text text-anchor=\"middle\" x=\"1004\" y=\"-198.8\" font-family=\"Helvetica,sans-Serif\" font-size=\"14.00\">class = surprise</text>\n</g>\n<!-- 1503&#45;&gt;1504 -->\n<g id=\"edge14\" class=\"edge\">\n<title>1503&#45;&gt;1504</title>\n<path fill=\"none\" stroke=\"black\" d=\"M1004,-309.91C1004,-301.65 1004,-292.86 1004,-284.3\"/>\n<polygon fill=\"black\" stroke=\"black\" points=\"1007.5,-284.02 1004,-274.02 1000.5,-284.02 1007.5,-284.02\"/>\n</g>\n<!-- 1557 -->\n<g id=\"node22\" class=\"node\">\n<title>1557</title>\n<polygon fill=\"#e89152\" stroke=\"black\" points=\"1273,-274 1111,-274 1111,-191 1273,-191 1273,-274\"/>\n<text text-anchor=\"middle\" x=\"1192\" y=\"-258.8\" font-family=\"Helvetica,sans-Serif\" font-size=\"14.00\">x[4183] &lt;= 0.5</text>\n<text text-anchor=\"middle\" x=\"1192\" y=\"-243.8\" font-family=\"Helvetica,sans-Serif\" font-size=\"14.00\">gini = 0.198</text>\n<text text-anchor=\"middle\" x=\"1192\" y=\"-228.8\" font-family=\"Helvetica,sans-Serif\" font-size=\"14.00\">samples = 54</text>\n<text text-anchor=\"middle\" x=\"1192\" y=\"-213.8\" font-family=\"Helvetica,sans-Serif\" font-size=\"14.00\">value = [48, 0, 0, 0, 6, 0]</text>\n<text text-anchor=\"middle\" x=\"1192\" y=\"-198.8\" font-family=\"Helvetica,sans-Serif\" font-size=\"14.00\">class = happy</text>\n</g>\n<!-- 1503&#45;&gt;1557 -->\n<g id=\"edge21\" class=\"edge\">\n<title>1503&#45;&gt;1557</title>\n<path fill=\"none\" stroke=\"black\" d=\"M1069.23,-309.91C1084.97,-300.11 1101.92,-289.56 1118.03,-279.53\"/>\n<polygon fill=\"black\" stroke=\"black\" points=\"1120.25,-282.28 1126.89,-274.02 1116.55,-276.33 1120.25,-282.28\"/>\n</g>\n<!-- 1505 -->\n<g id=\"node16\" class=\"node\">\n<title>1505</title>\n<polygon fill=\"#853fe6\" stroke=\"black\" points=\"906.5,-155 729.5,-155 729.5,-72 906.5,-72 906.5,-155\"/>\n<text text-anchor=\"middle\" x=\"818\" y=\"-139.8\" font-family=\"Helvetica,sans-Serif\" font-size=\"14.00\">x[6852] &lt;= 0.5</text>\n<text text-anchor=\"middle\" x=\"818\" y=\"-124.8\" font-family=\"Helvetica,sans-Serif\" font-size=\"14.00\">gini = 0.058</text>\n<text text-anchor=\"middle\" x=\"818\" y=\"-109.8\" font-family=\"Helvetica,sans-Serif\" font-size=\"14.00\">samples = 896</text>\n<text text-anchor=\"middle\" x=\"818\" y=\"-94.8\" font-family=\"Helvetica,sans-Serif\" font-size=\"14.00\">value = [27, 0, 0, 0, 869, 0]</text>\n<text text-anchor=\"middle\" x=\"818\" y=\"-79.8\" font-family=\"Helvetica,sans-Serif\" font-size=\"14.00\">class = surprise</text>\n</g>\n<!-- 1504&#45;&gt;1505 -->\n<g id=\"edge15\" class=\"edge\">\n<title>1504&#45;&gt;1505</title>\n<path fill=\"none\" stroke=\"black\" d=\"M939.47,-190.91C923.89,-181.11 907.13,-170.56 891.18,-160.53\"/>\n<polygon fill=\"black\" stroke=\"black\" points=\"892.75,-157.38 882.42,-155.02 889.02,-163.31 892.75,-157.38\"/>\n</g>\n<!-- 1554 -->\n<g id=\"node19\" class=\"node\">\n<title>1554</title>\n<polygon fill=\"#e68742\" stroke=\"black\" points=\"1087,-155 925,-155 925,-72 1087,-72 1087,-155\"/>\n<text text-anchor=\"middle\" x=\"1006\" y=\"-139.8\" font-family=\"Helvetica,sans-Serif\" font-size=\"14.00\">x[1816] &lt;= 0.5</text>\n<text text-anchor=\"middle\" x=\"1006\" y=\"-124.8\" font-family=\"Helvetica,sans-Serif\" font-size=\"14.00\">gini = 0.083</text>\n<text text-anchor=\"middle\" x=\"1006\" y=\"-109.8\" font-family=\"Helvetica,sans-Serif\" font-size=\"14.00\">samples = 46</text>\n<text text-anchor=\"middle\" x=\"1006\" y=\"-94.8\" font-family=\"Helvetica,sans-Serif\" font-size=\"14.00\">value = [44, 0, 0, 0, 2, 0]</text>\n<text text-anchor=\"middle\" x=\"1006\" y=\"-79.8\" font-family=\"Helvetica,sans-Serif\" font-size=\"14.00\">class = happy</text>\n</g>\n<!-- 1504&#45;&gt;1554 -->\n<g id=\"edge18\" class=\"edge\">\n<title>1504&#45;&gt;1554</title>\n<path fill=\"none\" stroke=\"black\" d=\"M1004.69,-190.91C1004.84,-182.56 1004.99,-173.67 1005.14,-165.02\"/>\n<polygon fill=\"black\" stroke=\"black\" points=\"1008.64,-165.08 1005.31,-155.02 1001.64,-164.96 1008.64,-165.08\"/>\n</g>\n<!-- 1506 -->\n<g id=\"node17\" class=\"node\">\n<title>1506</title>\n<polygon fill=\"#c0c0c0\" stroke=\"black\" points=\"795,-36 741,-36 741,0 795,0 795,-36\"/>\n<text text-anchor=\"middle\" x=\"768\" y=\"-14.3\" font-family=\"Helvetica,sans-Serif\" font-size=\"14.00\">(...)</text>\n</g>\n<!-- 1505&#45;&gt;1506 -->\n<g id=\"edge16\" class=\"edge\">\n<title>1505&#45;&gt;1506</title>\n<path fill=\"none\" stroke=\"black\" d=\"M796.21,-71.76C791.45,-62.85 786.52,-53.64 782.15,-45.46\"/>\n<polygon fill=\"black\" stroke=\"black\" points=\"785.11,-43.57 777.31,-36.41 778.94,-46.87 785.11,-43.57\"/>\n</g>\n<!-- 1553 -->\n<g id=\"node18\" class=\"node\">\n<title>1553</title>\n<polygon fill=\"#c0c0c0\" stroke=\"black\" points=\"867,-36 813,-36 813,0 867,0 867,-36\"/>\n<text text-anchor=\"middle\" x=\"840\" y=\"-14.3\" font-family=\"Helvetica,sans-Serif\" font-size=\"14.00\">(...)</text>\n</g>\n<!-- 1505&#45;&gt;1553 -->\n<g id=\"edge17\" class=\"edge\">\n<title>1505&#45;&gt;1553</title>\n<path fill=\"none\" stroke=\"black\" d=\"M827.59,-71.76C829.61,-63.14 831.71,-54.24 833.59,-46.26\"/>\n<polygon fill=\"black\" stroke=\"black\" points=\"837.02,-46.94 835.9,-36.41 830.21,-45.34 837.02,-46.94\"/>\n</g>\n<!-- 1555 -->\n<g id=\"node20\" class=\"node\">\n<title>1555</title>\n<polygon fill=\"#c0c0c0\" stroke=\"black\" points=\"997,-36 943,-36 943,0 997,0 997,-36\"/>\n<text text-anchor=\"middle\" x=\"970\" y=\"-14.3\" font-family=\"Helvetica,sans-Serif\" font-size=\"14.00\">(...)</text>\n</g>\n<!-- 1554&#45;&gt;1555 -->\n<g id=\"edge19\" class=\"edge\">\n<title>1554&#45;&gt;1555</title>\n<path fill=\"none\" stroke=\"black\" d=\"M990.31,-71.76C986.96,-63.04 983.49,-54.04 980.39,-45.99\"/>\n<polygon fill=\"black\" stroke=\"black\" points=\"983.56,-44.48 976.7,-36.41 977.03,-46.99 983.56,-44.48\"/>\n</g>\n<!-- 1556 -->\n<g id=\"node21\" class=\"node\">\n<title>1556</title>\n<polygon fill=\"#c0c0c0\" stroke=\"black\" points=\"1069,-36 1015,-36 1015,0 1069,0 1069,-36\"/>\n<text text-anchor=\"middle\" x=\"1042\" y=\"-14.3\" font-family=\"Helvetica,sans-Serif\" font-size=\"14.00\">(...)</text>\n</g>\n<!-- 1554&#45;&gt;1556 -->\n<g id=\"edge20\" class=\"edge\">\n<title>1554&#45;&gt;1556</title>\n<path fill=\"none\" stroke=\"black\" d=\"M1021.69,-71.76C1025.04,-63.04 1028.51,-54.04 1031.61,-45.99\"/>\n<polygon fill=\"black\" stroke=\"black\" points=\"1034.97,-46.99 1035.3,-36.41 1028.44,-44.48 1034.97,-46.99\"/>\n</g>\n<!-- 1558 -->\n<g id=\"node23\" class=\"node\">\n<title>1558</title>\n<polygon fill=\"#e68641\" stroke=\"black\" points=\"1271,-155 1109,-155 1109,-72 1271,-72 1271,-155\"/>\n<text text-anchor=\"middle\" x=\"1190\" y=\"-139.8\" font-family=\"Helvetica,sans-Serif\" font-size=\"14.00\">x[5139] &lt;= 0.5</text>\n<text text-anchor=\"middle\" x=\"1190\" y=\"-124.8\" font-family=\"Helvetica,sans-Serif\" font-size=\"14.00\">gini = 0.077</text>\n<text text-anchor=\"middle\" x=\"1190\" y=\"-109.8\" font-family=\"Helvetica,sans-Serif\" font-size=\"14.00\">samples = 50</text>\n<text text-anchor=\"middle\" x=\"1190\" y=\"-94.8\" font-family=\"Helvetica,sans-Serif\" font-size=\"14.00\">value = [48, 0, 0, 0, 2, 0]</text>\n<text text-anchor=\"middle\" x=\"1190\" y=\"-79.8\" font-family=\"Helvetica,sans-Serif\" font-size=\"14.00\">class = happy</text>\n</g>\n<!-- 1557&#45;&gt;1558 -->\n<g id=\"edge22\" class=\"edge\">\n<title>1557&#45;&gt;1558</title>\n<path fill=\"none\" stroke=\"black\" d=\"M1191.31,-190.91C1191.16,-182.56 1191.01,-173.67 1190.86,-165.02\"/>\n<polygon fill=\"black\" stroke=\"black\" points=\"1194.36,-164.96 1190.69,-155.02 1187.36,-165.08 1194.36,-164.96\"/>\n</g>\n<!-- 1563 -->\n<g id=\"node26\" class=\"node\">\n<title>1563</title>\n<polygon fill=\"#8139e5\" stroke=\"black\" points=\"1444.5,-147.5 1289.5,-147.5 1289.5,-79.5 1444.5,-79.5 1444.5,-147.5\"/>\n<text text-anchor=\"middle\" x=\"1367\" y=\"-132.3\" font-family=\"Helvetica,sans-Serif\" font-size=\"14.00\">gini = 0.0</text>\n<text text-anchor=\"middle\" x=\"1367\" y=\"-117.3\" font-family=\"Helvetica,sans-Serif\" font-size=\"14.00\">samples = 4</text>\n<text text-anchor=\"middle\" x=\"1367\" y=\"-102.3\" font-family=\"Helvetica,sans-Serif\" font-size=\"14.00\">value = [0, 0, 0, 0, 4, 0]</text>\n<text text-anchor=\"middle\" x=\"1367\" y=\"-87.3\" font-family=\"Helvetica,sans-Serif\" font-size=\"14.00\">class = surprise</text>\n</g>\n<!-- 1557&#45;&gt;1563 -->\n<g id=\"edge25\" class=\"edge\">\n<title>1557&#45;&gt;1563</title>\n<path fill=\"none\" stroke=\"black\" d=\"M1252.72,-190.91C1270.87,-178.77 1290.73,-165.49 1308.72,-153.46\"/>\n<polygon fill=\"black\" stroke=\"black\" points=\"1311.02,-156.13 1317.39,-147.67 1307.13,-150.32 1311.02,-156.13\"/>\n</g>\n<!-- 1559 -->\n<g id=\"node24\" class=\"node\">\n<title>1559</title>\n<polygon fill=\"#c0c0c0\" stroke=\"black\" points=\"1181,-36 1127,-36 1127,0 1181,0 1181,-36\"/>\n<text text-anchor=\"middle\" x=\"1154\" y=\"-14.3\" font-family=\"Helvetica,sans-Serif\" font-size=\"14.00\">(...)</text>\n</g>\n<!-- 1558&#45;&gt;1559 -->\n<g id=\"edge23\" class=\"edge\">\n<title>1558&#45;&gt;1559</title>\n<path fill=\"none\" stroke=\"black\" d=\"M1174.31,-71.76C1170.96,-63.04 1167.49,-54.04 1164.39,-45.99\"/>\n<polygon fill=\"black\" stroke=\"black\" points=\"1167.56,-44.48 1160.7,-36.41 1161.03,-46.99 1167.56,-44.48\"/>\n</g>\n<!-- 1562 -->\n<g id=\"node25\" class=\"node\">\n<title>1562</title>\n<polygon fill=\"#c0c0c0\" stroke=\"black\" points=\"1253,-36 1199,-36 1199,0 1253,0 1253,-36\"/>\n<text text-anchor=\"middle\" x=\"1226\" y=\"-14.3\" font-family=\"Helvetica,sans-Serif\" font-size=\"14.00\">(...)</text>\n</g>\n<!-- 1558&#45;&gt;1562 -->\n<g id=\"edge24\" class=\"edge\">\n<title>1558&#45;&gt;1562</title>\n<path fill=\"none\" stroke=\"black\" d=\"M1205.69,-71.76C1209.04,-63.04 1212.51,-54.04 1215.61,-45.99\"/>\n<polygon fill=\"black\" stroke=\"black\" points=\"1218.97,-46.99 1219.3,-36.41 1212.44,-44.48 1218.97,-46.99\"/>\n</g>\n</g>\n</svg>\n"
          },
          "metadata": {},
          "execution_count": 71
        }
      ]
    },
    {
      "cell_type": "markdown",
      "source": [
        "## **Neural Network Model**"
      ],
      "metadata": {
        "id": "KAmKe0MnIQMc"
      }
    },
    {
      "cell_type": "code",
      "source": [
        "from sklearn.neural_network import MLPClassifier\n",
        "\n",
        "model = MLPClassifier((100, 60), activation='relu', learning_rate='adaptive')\n",
        "model.fit(x_train, y_train)\n",
        "y_p4 = model.predict(x_test)"
      ],
      "metadata": {
        "id": "6tQLtraAEYQR"
      },
      "execution_count": 80,
      "outputs": []
    },
    {
      "cell_type": "code",
      "source": [
        "precision = precision_score(y_test, y_p4, average='weighted')\n",
        "recall = recall_score(y_test, y_p4, average='weighted')\n",
        "fscore = f1_score(y_test, y_p4, average='weighted')\n",
        "print('Accuracy:', accuracy_score(y_test, y_p4))\n",
        "print('precision: {}'.format(precision))\n",
        "print('recall: {}'.format(recall))\n",
        "print('fscore: {}'.format(fscore))"
      ],
      "metadata": {
        "colab": {
          "base_uri": "https://localhost:8080/"
        },
        "id": "rNQiK_E9HMiO",
        "outputId": "fe265834-c1c5-4fd4-85cb-b60cf99a2c24"
      },
      "execution_count": 81,
      "outputs": [
        {
          "output_type": "stream",
          "name": "stdout",
          "text": [
            "Accuracy: 0.8465025906735751\n",
            "precision: 0.8493194770880256\n",
            "recall: 0.8465025906735751\n",
            "fscore: 0.8447916763554727\n"
          ]
        }
      ]
    },
    {
      "cell_type": "code",
      "source": [
        "cm4 = confusion_matrix(y_p4, y_test)\n",
        "sns.heatmap(cm4, annot=True, fmt='.0f')"
      ],
      "metadata": {
        "colab": {
          "base_uri": "https://localhost:8080/",
          "height": 282
        },
        "id": "qfWlnb1qHUj2",
        "outputId": "28c52146-f204-493e-842c-e62e5465c9f8"
      },
      "execution_count": 82,
      "outputs": [
        {
          "output_type": "execute_result",
          "data": {
            "text/plain": [
              "<AxesSubplot:>"
            ]
          },
          "metadata": {},
          "execution_count": 82
        },
        {
          "output_type": "display_data",
          "data": {
            "text/plain": [
              "<Figure size 432x288 with 2 Axes>"
            ],
            "image/png": "[encoded data removed]"
          },
          "metadata": {
            "needs_background": "light"
          }
        }
      ]
    }
  ]
}